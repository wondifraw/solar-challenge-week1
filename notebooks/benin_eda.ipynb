{
 "cells": [
  {
   "cell_type": "markdown",
   "id": "dda8ed62",
   "metadata": {},
   "source": [
    "# **Solar Data Discovery** \n",
    "\n",
    "## **Sierraleone Data Profiling, Cleaning, and EDA**"
   ]
  },
  {
   "cell_type": "code",
   "execution_count": null,
   "id": "a7a34e77",
   "metadata": {},
   "outputs": [],
   "source": [
    "# Import Required Libraries\n",
    "import matplotlib.pyplot as plt\n",
    "import pandas as pd \n",
    "import numpy as np "
   ]
  },
  {
   "cell_type": "code",
   "execution_count": 4,
   "id": "23977a43",
   "metadata": {},
   "outputs": [],
   "source": [
    "# Reading DataSets \n",
    "benin_data = pd.read_csv(\"../data/benin-malanville.csv\", parse_dates=['Timestamp'],date_format=\"%y %m %d %h %m\")"
   ]
  },
  {
   "cell_type": "markdown",
   "id": "45c04b26",
   "metadata": {},
   "source": [
    "### Data Profiling"
   ]
  },
  {
   "cell_type": "code",
   "execution_count": 5,
   "id": "846724e9",
   "metadata": {},
   "outputs": [
    {
     "data": {
      "application/vnd.microsoft.datawrangler.viewer.v0+json": {
       "columns": [
        {
         "name": "index",
         "rawType": "int64",
         "type": "integer"
        },
        {
         "name": "Timestamp",
         "rawType": "object",
         "type": "string"
        },
        {
         "name": "GHI",
         "rawType": "float64",
         "type": "float"
        },
        {
         "name": "DNI",
         "rawType": "float64",
         "type": "float"
        },
        {
         "name": "DHI",
         "rawType": "float64",
         "type": "float"
        },
        {
         "name": "ModA",
         "rawType": "float64",
         "type": "float"
        },
        {
         "name": "ModB",
         "rawType": "float64",
         "type": "float"
        },
        {
         "name": "Tamb",
         "rawType": "float64",
         "type": "float"
        },
        {
         "name": "RH",
         "rawType": "float64",
         "type": "float"
        },
        {
         "name": "WS",
         "rawType": "float64",
         "type": "float"
        },
        {
         "name": "WSgust",
         "rawType": "float64",
         "type": "float"
        },
        {
         "name": "WSstdev",
         "rawType": "float64",
         "type": "float"
        },
        {
         "name": "WD",
         "rawType": "float64",
         "type": "float"
        },
        {
         "name": "WDstdev",
         "rawType": "float64",
         "type": "float"
        },
        {
         "name": "BP",
         "rawType": "int64",
         "type": "integer"
        },
        {
         "name": "Cleaning",
         "rawType": "int64",
         "type": "integer"
        },
        {
         "name": "Precipitation",
         "rawType": "float64",
         "type": "float"
        },
        {
         "name": "TModA",
         "rawType": "float64",
         "type": "float"
        },
        {
         "name": "TModB",
         "rawType": "float64",
         "type": "float"
        },
        {
         "name": "Comments",
         "rawType": "float64",
         "type": "float"
        }
       ],
       "conversionMethod": "pd.DataFrame",
       "ref": "d72af182-f921-4d90-8ba5-ab7cd65928d2",
       "rows": [
        [
         "0",
         "2021-08-09 00:01",
         "-1.2",
         "-0.2",
         "-1.1",
         "0.0",
         "0.0",
         "26.2",
         "93.4",
         "0.0",
         "0.4",
         "0.1",
         "122.1",
         "0.0",
         "998",
         "0",
         "0.0",
         "26.3",
         "26.2",
         null
        ],
        [
         "1",
         "2021-08-09 00:02",
         "-1.1",
         "-0.2",
         "-1.1",
         "0.0",
         "0.0",
         "26.2",
         "93.6",
         "0.0",
         "0.0",
         "0.0",
         "0.0",
         "0.0",
         "998",
         "0",
         "0.0",
         "26.3",
         "26.2",
         null
        ],
        [
         "2",
         "2021-08-09 00:03",
         "-1.1",
         "-0.2",
         "-1.1",
         "0.0",
         "0.0",
         "26.2",
         "93.7",
         "0.3",
         "1.1",
         "0.5",
         "124.6",
         "1.5",
         "997",
         "0",
         "0.0",
         "26.4",
         "26.2",
         null
        ],
        [
         "3",
         "2021-08-09 00:04",
         "-1.1",
         "-0.1",
         "-1.0",
         "0.0",
         "0.0",
         "26.2",
         "93.3",
         "0.2",
         "0.7",
         "0.4",
         "120.3",
         "1.3",
         "997",
         "0",
         "0.0",
         "26.4",
         "26.3",
         null
        ],
        [
         "4",
         "2021-08-09 00:05",
         "-1.0",
         "-0.1",
         "-1.0",
         "0.0",
         "0.0",
         "26.2",
         "93.3",
         "0.1",
         "0.7",
         "0.3",
         "113.2",
         "1.0",
         "997",
         "0",
         "0.0",
         "26.4",
         "26.3",
         null
        ]
       ],
       "shape": {
        "columns": 19,
        "rows": 5
       }
      },
      "text/html": [
       "<div>\n",
       "<style scoped>\n",
       "    .dataframe tbody tr th:only-of-type {\n",
       "        vertical-align: middle;\n",
       "    }\n",
       "\n",
       "    .dataframe tbody tr th {\n",
       "        vertical-align: top;\n",
       "    }\n",
       "\n",
       "    .dataframe thead th {\n",
       "        text-align: right;\n",
       "    }\n",
       "</style>\n",
       "<table border=\"1\" class=\"dataframe\">\n",
       "  <thead>\n",
       "    <tr style=\"text-align: right;\">\n",
       "      <th></th>\n",
       "      <th>Timestamp</th>\n",
       "      <th>GHI</th>\n",
       "      <th>DNI</th>\n",
       "      <th>DHI</th>\n",
       "      <th>ModA</th>\n",
       "      <th>ModB</th>\n",
       "      <th>Tamb</th>\n",
       "      <th>RH</th>\n",
       "      <th>WS</th>\n",
       "      <th>WSgust</th>\n",
       "      <th>WSstdev</th>\n",
       "      <th>WD</th>\n",
       "      <th>WDstdev</th>\n",
       "      <th>BP</th>\n",
       "      <th>Cleaning</th>\n",
       "      <th>Precipitation</th>\n",
       "      <th>TModA</th>\n",
       "      <th>TModB</th>\n",
       "      <th>Comments</th>\n",
       "    </tr>\n",
       "  </thead>\n",
       "  <tbody>\n",
       "    <tr>\n",
       "      <th>0</th>\n",
       "      <td>2021-08-09 00:01</td>\n",
       "      <td>-1.2</td>\n",
       "      <td>-0.2</td>\n",
       "      <td>-1.1</td>\n",
       "      <td>0.0</td>\n",
       "      <td>0.0</td>\n",
       "      <td>26.2</td>\n",
       "      <td>93.4</td>\n",
       "      <td>0.0</td>\n",
       "      <td>0.4</td>\n",
       "      <td>0.1</td>\n",
       "      <td>122.1</td>\n",
       "      <td>0.0</td>\n",
       "      <td>998</td>\n",
       "      <td>0</td>\n",
       "      <td>0.0</td>\n",
       "      <td>26.3</td>\n",
       "      <td>26.2</td>\n",
       "      <td>NaN</td>\n",
       "    </tr>\n",
       "    <tr>\n",
       "      <th>1</th>\n",
       "      <td>2021-08-09 00:02</td>\n",
       "      <td>-1.1</td>\n",
       "      <td>-0.2</td>\n",
       "      <td>-1.1</td>\n",
       "      <td>0.0</td>\n",
       "      <td>0.0</td>\n",
       "      <td>26.2</td>\n",
       "      <td>93.6</td>\n",
       "      <td>0.0</td>\n",
       "      <td>0.0</td>\n",
       "      <td>0.0</td>\n",
       "      <td>0.0</td>\n",
       "      <td>0.0</td>\n",
       "      <td>998</td>\n",
       "      <td>0</td>\n",
       "      <td>0.0</td>\n",
       "      <td>26.3</td>\n",
       "      <td>26.2</td>\n",
       "      <td>NaN</td>\n",
       "    </tr>\n",
       "    <tr>\n",
       "      <th>2</th>\n",
       "      <td>2021-08-09 00:03</td>\n",
       "      <td>-1.1</td>\n",
       "      <td>-0.2</td>\n",
       "      <td>-1.1</td>\n",
       "      <td>0.0</td>\n",
       "      <td>0.0</td>\n",
       "      <td>26.2</td>\n",
       "      <td>93.7</td>\n",
       "      <td>0.3</td>\n",
       "      <td>1.1</td>\n",
       "      <td>0.5</td>\n",
       "      <td>124.6</td>\n",
       "      <td>1.5</td>\n",
       "      <td>997</td>\n",
       "      <td>0</td>\n",
       "      <td>0.0</td>\n",
       "      <td>26.4</td>\n",
       "      <td>26.2</td>\n",
       "      <td>NaN</td>\n",
       "    </tr>\n",
       "    <tr>\n",
       "      <th>3</th>\n",
       "      <td>2021-08-09 00:04</td>\n",
       "      <td>-1.1</td>\n",
       "      <td>-0.1</td>\n",
       "      <td>-1.0</td>\n",
       "      <td>0.0</td>\n",
       "      <td>0.0</td>\n",
       "      <td>26.2</td>\n",
       "      <td>93.3</td>\n",
       "      <td>0.2</td>\n",
       "      <td>0.7</td>\n",
       "      <td>0.4</td>\n",
       "      <td>120.3</td>\n",
       "      <td>1.3</td>\n",
       "      <td>997</td>\n",
       "      <td>0</td>\n",
       "      <td>0.0</td>\n",
       "      <td>26.4</td>\n",
       "      <td>26.3</td>\n",
       "      <td>NaN</td>\n",
       "    </tr>\n",
       "    <tr>\n",
       "      <th>4</th>\n",
       "      <td>2021-08-09 00:05</td>\n",
       "      <td>-1.0</td>\n",
       "      <td>-0.1</td>\n",
       "      <td>-1.0</td>\n",
       "      <td>0.0</td>\n",
       "      <td>0.0</td>\n",
       "      <td>26.2</td>\n",
       "      <td>93.3</td>\n",
       "      <td>0.1</td>\n",
       "      <td>0.7</td>\n",
       "      <td>0.3</td>\n",
       "      <td>113.2</td>\n",
       "      <td>1.0</td>\n",
       "      <td>997</td>\n",
       "      <td>0</td>\n",
       "      <td>0.0</td>\n",
       "      <td>26.4</td>\n",
       "      <td>26.3</td>\n",
       "      <td>NaN</td>\n",
       "    </tr>\n",
       "  </tbody>\n",
       "</table>\n",
       "</div>"
      ],
      "text/plain": [
       "          Timestamp  GHI  DNI  DHI  ModA  ModB  Tamb    RH   WS  WSgust  \\\n",
       "0  2021-08-09 00:01 -1.2 -0.2 -1.1   0.0   0.0  26.2  93.4  0.0     0.4   \n",
       "1  2021-08-09 00:02 -1.1 -0.2 -1.1   0.0   0.0  26.2  93.6  0.0     0.0   \n",
       "2  2021-08-09 00:03 -1.1 -0.2 -1.1   0.0   0.0  26.2  93.7  0.3     1.1   \n",
       "3  2021-08-09 00:04 -1.1 -0.1 -1.0   0.0   0.0  26.2  93.3  0.2     0.7   \n",
       "4  2021-08-09 00:05 -1.0 -0.1 -1.0   0.0   0.0  26.2  93.3  0.1     0.7   \n",
       "\n",
       "   WSstdev     WD  WDstdev   BP  Cleaning  Precipitation  TModA  TModB  \\\n",
       "0      0.1  122.1      0.0  998         0            0.0   26.3   26.2   \n",
       "1      0.0    0.0      0.0  998         0            0.0   26.3   26.2   \n",
       "2      0.5  124.6      1.5  997         0            0.0   26.4   26.2   \n",
       "3      0.4  120.3      1.3  997         0            0.0   26.4   26.3   \n",
       "4      0.3  113.2      1.0  997         0            0.0   26.4   26.3   \n",
       "\n",
       "   Comments  \n",
       "0       NaN  \n",
       "1       NaN  \n",
       "2       NaN  \n",
       "3       NaN  \n",
       "4       NaN  "
      ]
     },
     "execution_count": 5,
     "metadata": {},
     "output_type": "execute_result"
    }
   ],
   "source": [
    "# display the first 10 records\n",
    "benin_data.head()"
   ]
  },
  {
   "cell_type": "code",
   "execution_count": 6,
   "id": "23066377",
   "metadata": {},
   "outputs": [
    {
     "data": {
      "application/vnd.microsoft.datawrangler.viewer.v0+json": {
       "columns": [
        {
         "name": "index",
         "rawType": "int64",
         "type": "integer"
        },
        {
         "name": "Timestamp",
         "rawType": "object",
         "type": "string"
        },
        {
         "name": "GHI",
         "rawType": "float64",
         "type": "float"
        },
        {
         "name": "DNI",
         "rawType": "float64",
         "type": "float"
        },
        {
         "name": "DHI",
         "rawType": "float64",
         "type": "float"
        },
        {
         "name": "ModA",
         "rawType": "float64",
         "type": "float"
        },
        {
         "name": "ModB",
         "rawType": "float64",
         "type": "float"
        },
        {
         "name": "Tamb",
         "rawType": "float64",
         "type": "float"
        },
        {
         "name": "RH",
         "rawType": "float64",
         "type": "float"
        },
        {
         "name": "WS",
         "rawType": "float64",
         "type": "float"
        },
        {
         "name": "WSgust",
         "rawType": "float64",
         "type": "float"
        },
        {
         "name": "WSstdev",
         "rawType": "float64",
         "type": "float"
        },
        {
         "name": "WD",
         "rawType": "float64",
         "type": "float"
        },
        {
         "name": "WDstdev",
         "rawType": "float64",
         "type": "float"
        },
        {
         "name": "BP",
         "rawType": "int64",
         "type": "integer"
        },
        {
         "name": "Cleaning",
         "rawType": "int64",
         "type": "integer"
        },
        {
         "name": "Precipitation",
         "rawType": "float64",
         "type": "float"
        },
        {
         "name": "TModA",
         "rawType": "float64",
         "type": "float"
        },
        {
         "name": "TModB",
         "rawType": "float64",
         "type": "float"
        },
        {
         "name": "Comments",
         "rawType": "float64",
         "type": "float"
        }
       ],
       "conversionMethod": "pd.DataFrame",
       "ref": "883767dc-7f67-4b5e-b83e-2d116660a0f8",
       "rows": [
        [
         "525595",
         "2022-08-08 23:56",
         "-5.5",
         "-0.1",
         "-5.9",
         "0.0",
         "0.0",
         "23.1",
         "98.3",
         "0.3",
         "1.1",
         "0.5",
         "119.3",
         "4.1",
         "996",
         "0",
         "0.0",
         "23.5",
         "22.9",
         null
        ],
        [
         "525596",
         "2022-08-08 23:57",
         "-5.5",
         "-0.1",
         "-5.8",
         "0.0",
         "0.0",
         "23.1",
         "98.3",
         "0.2",
         "0.7",
         "0.4",
         "115.2",
         "2.3",
         "996",
         "0",
         "0.0",
         "23.5",
         "22.9",
         null
        ],
        [
         "525597",
         "2022-08-08 23:58",
         "-5.5",
         "-0.1",
         "-5.8",
         "0.0",
         "0.0",
         "23.1",
         "98.4",
         "0.6",
         "1.1",
         "0.5",
         "129.8",
         "3.4",
         "996",
         "0",
         "0.0",
         "23.5",
         "22.9",
         null
        ],
        [
         "525598",
         "2022-08-08 23:59",
         "-5.5",
         "-0.1",
         "-5.8",
         "0.0",
         "0.0",
         "23.1",
         "98.3",
         "0.9",
         "1.3",
         "0.5",
         "124.4",
         "4.3",
         "996",
         "0",
         "0.0",
         "23.5",
         "22.9",
         null
        ],
        [
         "525599",
         "2022-08-09 00:00",
         "-5.5",
         "-0.1",
         "-5.7",
         "0.0",
         "0.0",
         "23.1",
         "98.3",
         "1.2",
         "1.6",
         "0.3",
         "124.1",
         "5.9",
         "996",
         "0",
         "0.0",
         "23.5",
         "22.9",
         null
        ]
       ],
       "shape": {
        "columns": 19,
        "rows": 5
       }
      },
      "text/html": [
       "<div>\n",
       "<style scoped>\n",
       "    .dataframe tbody tr th:only-of-type {\n",
       "        vertical-align: middle;\n",
       "    }\n",
       "\n",
       "    .dataframe tbody tr th {\n",
       "        vertical-align: top;\n",
       "    }\n",
       "\n",
       "    .dataframe thead th {\n",
       "        text-align: right;\n",
       "    }\n",
       "</style>\n",
       "<table border=\"1\" class=\"dataframe\">\n",
       "  <thead>\n",
       "    <tr style=\"text-align: right;\">\n",
       "      <th></th>\n",
       "      <th>Timestamp</th>\n",
       "      <th>GHI</th>\n",
       "      <th>DNI</th>\n",
       "      <th>DHI</th>\n",
       "      <th>ModA</th>\n",
       "      <th>ModB</th>\n",
       "      <th>Tamb</th>\n",
       "      <th>RH</th>\n",
       "      <th>WS</th>\n",
       "      <th>WSgust</th>\n",
       "      <th>WSstdev</th>\n",
       "      <th>WD</th>\n",
       "      <th>WDstdev</th>\n",
       "      <th>BP</th>\n",
       "      <th>Cleaning</th>\n",
       "      <th>Precipitation</th>\n",
       "      <th>TModA</th>\n",
       "      <th>TModB</th>\n",
       "      <th>Comments</th>\n",
       "    </tr>\n",
       "  </thead>\n",
       "  <tbody>\n",
       "    <tr>\n",
       "      <th>525595</th>\n",
       "      <td>2022-08-08 23:56</td>\n",
       "      <td>-5.5</td>\n",
       "      <td>-0.1</td>\n",
       "      <td>-5.9</td>\n",
       "      <td>0.0</td>\n",
       "      <td>0.0</td>\n",
       "      <td>23.1</td>\n",
       "      <td>98.3</td>\n",
       "      <td>0.3</td>\n",
       "      <td>1.1</td>\n",
       "      <td>0.5</td>\n",
       "      <td>119.3</td>\n",
       "      <td>4.1</td>\n",
       "      <td>996</td>\n",
       "      <td>0</td>\n",
       "      <td>0.0</td>\n",
       "      <td>23.5</td>\n",
       "      <td>22.9</td>\n",
       "      <td>NaN</td>\n",
       "    </tr>\n",
       "    <tr>\n",
       "      <th>525596</th>\n",
       "      <td>2022-08-08 23:57</td>\n",
       "      <td>-5.5</td>\n",
       "      <td>-0.1</td>\n",
       "      <td>-5.8</td>\n",
       "      <td>0.0</td>\n",
       "      <td>0.0</td>\n",
       "      <td>23.1</td>\n",
       "      <td>98.3</td>\n",
       "      <td>0.2</td>\n",
       "      <td>0.7</td>\n",
       "      <td>0.4</td>\n",
       "      <td>115.2</td>\n",
       "      <td>2.3</td>\n",
       "      <td>996</td>\n",
       "      <td>0</td>\n",
       "      <td>0.0</td>\n",
       "      <td>23.5</td>\n",
       "      <td>22.9</td>\n",
       "      <td>NaN</td>\n",
       "    </tr>\n",
       "    <tr>\n",
       "      <th>525597</th>\n",
       "      <td>2022-08-08 23:58</td>\n",
       "      <td>-5.5</td>\n",
       "      <td>-0.1</td>\n",
       "      <td>-5.8</td>\n",
       "      <td>0.0</td>\n",
       "      <td>0.0</td>\n",
       "      <td>23.1</td>\n",
       "      <td>98.4</td>\n",
       "      <td>0.6</td>\n",
       "      <td>1.1</td>\n",
       "      <td>0.5</td>\n",
       "      <td>129.8</td>\n",
       "      <td>3.4</td>\n",
       "      <td>996</td>\n",
       "      <td>0</td>\n",
       "      <td>0.0</td>\n",
       "      <td>23.5</td>\n",
       "      <td>22.9</td>\n",
       "      <td>NaN</td>\n",
       "    </tr>\n",
       "    <tr>\n",
       "      <th>525598</th>\n",
       "      <td>2022-08-08 23:59</td>\n",
       "      <td>-5.5</td>\n",
       "      <td>-0.1</td>\n",
       "      <td>-5.8</td>\n",
       "      <td>0.0</td>\n",
       "      <td>0.0</td>\n",
       "      <td>23.1</td>\n",
       "      <td>98.3</td>\n",
       "      <td>0.9</td>\n",
       "      <td>1.3</td>\n",
       "      <td>0.5</td>\n",
       "      <td>124.4</td>\n",
       "      <td>4.3</td>\n",
       "      <td>996</td>\n",
       "      <td>0</td>\n",
       "      <td>0.0</td>\n",
       "      <td>23.5</td>\n",
       "      <td>22.9</td>\n",
       "      <td>NaN</td>\n",
       "    </tr>\n",
       "    <tr>\n",
       "      <th>525599</th>\n",
       "      <td>2022-08-09 00:00</td>\n",
       "      <td>-5.5</td>\n",
       "      <td>-0.1</td>\n",
       "      <td>-5.7</td>\n",
       "      <td>0.0</td>\n",
       "      <td>0.0</td>\n",
       "      <td>23.1</td>\n",
       "      <td>98.3</td>\n",
       "      <td>1.2</td>\n",
       "      <td>1.6</td>\n",
       "      <td>0.3</td>\n",
       "      <td>124.1</td>\n",
       "      <td>5.9</td>\n",
       "      <td>996</td>\n",
       "      <td>0</td>\n",
       "      <td>0.0</td>\n",
       "      <td>23.5</td>\n",
       "      <td>22.9</td>\n",
       "      <td>NaN</td>\n",
       "    </tr>\n",
       "  </tbody>\n",
       "</table>\n",
       "</div>"
      ],
      "text/plain": [
       "               Timestamp  GHI  DNI  DHI  ModA  ModB  Tamb    RH   WS  WSgust  \\\n",
       "525595  2022-08-08 23:56 -5.5 -0.1 -5.9   0.0   0.0  23.1  98.3  0.3     1.1   \n",
       "525596  2022-08-08 23:57 -5.5 -0.1 -5.8   0.0   0.0  23.1  98.3  0.2     0.7   \n",
       "525597  2022-08-08 23:58 -5.5 -0.1 -5.8   0.0   0.0  23.1  98.4  0.6     1.1   \n",
       "525598  2022-08-08 23:59 -5.5 -0.1 -5.8   0.0   0.0  23.1  98.3  0.9     1.3   \n",
       "525599  2022-08-09 00:00 -5.5 -0.1 -5.7   0.0   0.0  23.1  98.3  1.2     1.6   \n",
       "\n",
       "        WSstdev     WD  WDstdev   BP  Cleaning  Precipitation  TModA  TModB  \\\n",
       "525595      0.5  119.3      4.1  996         0            0.0   23.5   22.9   \n",
       "525596      0.4  115.2      2.3  996         0            0.0   23.5   22.9   \n",
       "525597      0.5  129.8      3.4  996         0            0.0   23.5   22.9   \n",
       "525598      0.5  124.4      4.3  996         0            0.0   23.5   22.9   \n",
       "525599      0.3  124.1      5.9  996         0            0.0   23.5   22.9   \n",
       "\n",
       "        Comments  \n",
       "525595       NaN  \n",
       "525596       NaN  \n",
       "525597       NaN  \n",
       "525598       NaN  \n",
       "525599       NaN  "
      ]
     },
     "execution_count": 6,
     "metadata": {},
     "output_type": "execute_result"
    }
   ],
   "source": [
    "# display the last 10 records \n",
    "benin_data.tail()"
   ]
  },
  {
   "cell_type": "code",
   "execution_count": 8,
   "id": "20098f2f",
   "metadata": {},
   "outputs": [
    {
     "name": "stdout",
     "output_type": "stream",
     "text": [
      "benin Solar data Information: \n",
      "Instances: 525600 records \n",
      "Features:  19 columns\n"
     ]
    }
   ],
   "source": [
    "# display the shape of the data to get info about number features and instance \n",
    "print(f\"benin Solar data Information: \")\n",
    "print(f\"Instances: {benin_data.shape[0]} records \")\n",
    "print(f\"Features:  {benin_data.shape[1] } columns\")"
   ]
  },
  {
   "cell_type": "code",
   "execution_count": 9,
   "id": "82ab7a62",
   "metadata": {},
   "outputs": [
    {
     "name": "stdout",
     "output_type": "stream",
     "text": [
      "<class 'pandas.core.frame.DataFrame'>\n",
      "RangeIndex: 525600 entries, 0 to 525599\n",
      "Data columns (total 19 columns):\n",
      " #   Column         Non-Null Count   Dtype  \n",
      "---  ------         --------------   -----  \n",
      " 0   Timestamp      525600 non-null  object \n",
      " 1   GHI            525600 non-null  float64\n",
      " 2   DNI            525600 non-null  float64\n",
      " 3   DHI            525600 non-null  float64\n",
      " 4   ModA           525600 non-null  float64\n",
      " 5   ModB           525600 non-null  float64\n",
      " 6   Tamb           525600 non-null  float64\n",
      " 7   RH             525600 non-null  float64\n",
      " 8   WS             525600 non-null  float64\n",
      " 9   WSgust         525600 non-null  float64\n",
      " 10  WSstdev        525600 non-null  float64\n",
      " 11  WD             525600 non-null  float64\n",
      " 12  WDstdev        525600 non-null  float64\n",
      " 13  BP             525600 non-null  int64  \n",
      " 14  Cleaning       525600 non-null  int64  \n",
      " 15  Precipitation  525600 non-null  float64\n",
      " 16  TModA          525600 non-null  float64\n",
      " 17  TModB          525600 non-null  float64\n",
      " 18  Comments       0 non-null       float64\n",
      "dtypes: float64(16), int64(2), object(1)\n",
      "memory usage: 76.2+ MB\n"
     ]
    }
   ],
   "source": [
    "# Dataset information about type of each columns, size \n",
    "benin_data.info()"
   ]
  },
  {
   "cell_type": "code",
   "execution_count": 10,
   "id": "70144375",
   "metadata": {},
   "outputs": [
    {
     "data": {
      "application/vnd.microsoft.datawrangler.viewer.v0+json": {
       "columns": [
        {
         "name": "index",
         "rawType": "object",
         "type": "string"
        },
        {
         "name": "columns",
         "rawType": "object",
         "type": "string"
        },
        {
         "name": "# of unique",
         "rawType": "int64",
         "type": "integer"
        }
       ],
       "conversionMethod": "pd.DataFrame",
       "ref": "9dfd2bfb-37a1-4b05-86fc-3ecb8e1aba39",
       "rows": [
        [
         "Timestamp",
         "Timestamp",
         "525600"
        ],
        [
         "GHI",
         "GHI",
         "8609"
        ],
        [
         "DNI",
         "DNI",
         "8905"
        ],
        [
         "DHI",
         "DHI",
         "6995"
        ],
        [
         "ModA",
         "ModA",
         "10755"
        ],
        [
         "ModB",
         "ModB",
         "8461"
        ],
        [
         "Tamb",
         "Tamb",
         "329"
        ],
        [
         "RH",
         "RH",
         "980"
        ],
        [
         "WS",
         "WS",
         "164"
        ],
        [
         "WSgust",
         "WSgust",
         "92"
        ],
        [
         "WSstdev",
         "WSstdev",
         "42"
        ],
        [
         "WD",
         "WD",
         "3601"
        ],
        [
         "WDstdev",
         "WDstdev",
         "679"
        ],
        [
         "BP",
         "BP",
         "19"
        ],
        [
         "Cleaning",
         "Cleaning",
         "2"
        ],
        [
         "Precipitation",
         "Precipitation",
         "26"
        ],
        [
         "TModA",
         "TModA",
         "712"
        ],
        [
         "TModB",
         "TModB",
         "642"
        ],
        [
         "Comments",
         "Comments",
         "0"
        ]
       ],
       "shape": {
        "columns": 2,
        "rows": 19
       }
      },
      "text/html": [
       "<div>\n",
       "<style scoped>\n",
       "    .dataframe tbody tr th:only-of-type {\n",
       "        vertical-align: middle;\n",
       "    }\n",
       "\n",
       "    .dataframe tbody tr th {\n",
       "        vertical-align: top;\n",
       "    }\n",
       "\n",
       "    .dataframe thead th {\n",
       "        text-align: right;\n",
       "    }\n",
       "</style>\n",
       "<table border=\"1\" class=\"dataframe\">\n",
       "  <thead>\n",
       "    <tr style=\"text-align: right;\">\n",
       "      <th></th>\n",
       "      <th>columns</th>\n",
       "      <th># of unique</th>\n",
       "    </tr>\n",
       "  </thead>\n",
       "  <tbody>\n",
       "    <tr>\n",
       "      <th>Timestamp</th>\n",
       "      <td>Timestamp</td>\n",
       "      <td>525600</td>\n",
       "    </tr>\n",
       "    <tr>\n",
       "      <th>GHI</th>\n",
       "      <td>GHI</td>\n",
       "      <td>8609</td>\n",
       "    </tr>\n",
       "    <tr>\n",
       "      <th>DNI</th>\n",
       "      <td>DNI</td>\n",
       "      <td>8905</td>\n",
       "    </tr>\n",
       "    <tr>\n",
       "      <th>DHI</th>\n",
       "      <td>DHI</td>\n",
       "      <td>6995</td>\n",
       "    </tr>\n",
       "    <tr>\n",
       "      <th>ModA</th>\n",
       "      <td>ModA</td>\n",
       "      <td>10755</td>\n",
       "    </tr>\n",
       "    <tr>\n",
       "      <th>ModB</th>\n",
       "      <td>ModB</td>\n",
       "      <td>8461</td>\n",
       "    </tr>\n",
       "    <tr>\n",
       "      <th>Tamb</th>\n",
       "      <td>Tamb</td>\n",
       "      <td>329</td>\n",
       "    </tr>\n",
       "    <tr>\n",
       "      <th>RH</th>\n",
       "      <td>RH</td>\n",
       "      <td>980</td>\n",
       "    </tr>\n",
       "    <tr>\n",
       "      <th>WS</th>\n",
       "      <td>WS</td>\n",
       "      <td>164</td>\n",
       "    </tr>\n",
       "    <tr>\n",
       "      <th>WSgust</th>\n",
       "      <td>WSgust</td>\n",
       "      <td>92</td>\n",
       "    </tr>\n",
       "    <tr>\n",
       "      <th>WSstdev</th>\n",
       "      <td>WSstdev</td>\n",
       "      <td>42</td>\n",
       "    </tr>\n",
       "    <tr>\n",
       "      <th>WD</th>\n",
       "      <td>WD</td>\n",
       "      <td>3601</td>\n",
       "    </tr>\n",
       "    <tr>\n",
       "      <th>WDstdev</th>\n",
       "      <td>WDstdev</td>\n",
       "      <td>679</td>\n",
       "    </tr>\n",
       "    <tr>\n",
       "      <th>BP</th>\n",
       "      <td>BP</td>\n",
       "      <td>19</td>\n",
       "    </tr>\n",
       "    <tr>\n",
       "      <th>Cleaning</th>\n",
       "      <td>Cleaning</td>\n",
       "      <td>2</td>\n",
       "    </tr>\n",
       "    <tr>\n",
       "      <th>Precipitation</th>\n",
       "      <td>Precipitation</td>\n",
       "      <td>26</td>\n",
       "    </tr>\n",
       "    <tr>\n",
       "      <th>TModA</th>\n",
       "      <td>TModA</td>\n",
       "      <td>712</td>\n",
       "    </tr>\n",
       "    <tr>\n",
       "      <th>TModB</th>\n",
       "      <td>TModB</td>\n",
       "      <td>642</td>\n",
       "    </tr>\n",
       "    <tr>\n",
       "      <th>Comments</th>\n",
       "      <td>Comments</td>\n",
       "      <td>0</td>\n",
       "    </tr>\n",
       "  </tbody>\n",
       "</table>\n",
       "</div>"
      ],
      "text/plain": [
       "                     columns  # of unique\n",
       "Timestamp          Timestamp       525600\n",
       "GHI                      GHI         8609\n",
       "DNI                      DNI         8905\n",
       "DHI                      DHI         6995\n",
       "ModA                    ModA        10755\n",
       "ModB                    ModB         8461\n",
       "Tamb                    Tamb          329\n",
       "RH                        RH          980\n",
       "WS                        WS          164\n",
       "WSgust                WSgust           92\n",
       "WSstdev              WSstdev           42\n",
       "WD                        WD         3601\n",
       "WDstdev              WDstdev          679\n",
       "BP                        BP           19\n",
       "Cleaning            Cleaning            2\n",
       "Precipitation  Precipitation           26\n",
       "TModA                  TModA          712\n",
       "TModB                  TModB          642\n",
       "Comments            Comments            0"
      ]
     },
     "execution_count": 10,
     "metadata": {},
     "output_type": "execute_result"
    }
   ],
   "source": [
    "# Getting number of unique values \n",
    "number_of_unique = pd.DataFrame({\n",
    "    'columns': benin_data.columns,\n",
    "    '# of unique': benin_data.nunique()\n",
    "})\n",
    "number_of_unique"
   ]
  },
  {
   "cell_type": "code",
   "execution_count": 11,
   "id": "f630f350",
   "metadata": {},
   "outputs": [
    {
     "name": "stdout",
     "output_type": "stream",
     "text": [
      "====================================================================================================\n",
      "                                                              Missing Values Detection                                                                \n",
      "====================================================================================================\n",
      "Total number of missing values in the Dataset: 525600\n",
      "====================================================================================================\n",
      "                                                A Dataset Feature Having missing values more than 5 %                                                 \n",
      "====================================================================================================\n",
      "Missing Values of column Comments: -> 100.0 %\n",
      "====================================================================================================\n"
     ]
    }
   ],
   "source": [
    "# getting number of missing values for all dataset\n",
    "print(\"=\"*100)\n",
    "print(\"Missing Values Detection \".center(150))\n",
    "print(\"=\"*100, end=\"\\n\")\n",
    "print(f\"Total number of missing values in the Dataset: {benin_data.isna().sum().sum()}\")\n",
    "print(\"=\"*100, end=\"\\n\")\n",
    "\n",
    "# columns having missing values more than 5%\n",
    "\n",
    "print(f\"A Dataset Feature Having missing values more than 5 %\".center(150))\n",
    "print(\"=\"*100)\n",
    "for col in benin_data.columns:\n",
    "    percent =(benin_data[col].isna().sum()/benin_data.shape[0]) * 100\n",
    "    if  percent.round(2) >= 5:\n",
    "        print(f\"Missing Values of column {col}: -> {percent} %\")\n",
    "print(\"=\"*100,end=\"\\n\")\n",
    "\n",
    "\n"
   ]
  },
  {
   "cell_type": "code",
   "execution_count": 12,
   "id": "7af47174",
   "metadata": {},
   "outputs": [
    {
     "data": {
      "application/vnd.microsoft.datawrangler.viewer.v0+json": {
       "columns": [
        {
         "name": "index",
         "rawType": "object",
         "type": "string"
        },
        {
         "name": "columns",
         "rawType": "object",
         "type": "string"
        },
        {
         "name": "# missing",
         "rawType": "int64",
         "type": "integer"
        },
        {
         "name": "% missing",
         "rawType": "float64",
         "type": "float"
        }
       ],
       "conversionMethod": "pd.DataFrame",
       "ref": "d28336cd-ecf7-43ea-9d16-c005cfff80e5",
       "rows": [
        [
         "Timestamp",
         "Timestamp",
         "0",
         "0.0"
        ],
        [
         "GHI",
         "GHI",
         "0",
         "0.0"
        ],
        [
         "DNI",
         "DNI",
         "0",
         "0.0"
        ],
        [
         "DHI",
         "DHI",
         "0",
         "0.0"
        ],
        [
         "ModA",
         "ModA",
         "0",
         "0.0"
        ],
        [
         "ModB",
         "ModB",
         "0",
         "0.0"
        ],
        [
         "Tamb",
         "Tamb",
         "0",
         "0.0"
        ],
        [
         "RH",
         "RH",
         "0",
         "0.0"
        ],
        [
         "WS",
         "WS",
         "0",
         "0.0"
        ],
        [
         "WSgust",
         "WSgust",
         "0",
         "0.0"
        ],
        [
         "WSstdev",
         "WSstdev",
         "0",
         "0.0"
        ],
        [
         "WD",
         "WD",
         "0",
         "0.0"
        ],
        [
         "WDstdev",
         "WDstdev",
         "0",
         "0.0"
        ],
        [
         "BP",
         "BP",
         "0",
         "0.0"
        ],
        [
         "Cleaning",
         "Cleaning",
         "0",
         "0.0"
        ],
        [
         "Precipitation",
         "Precipitation",
         "0",
         "0.0"
        ],
        [
         "TModA",
         "TModA",
         "0",
         "0.0"
        ],
        [
         "TModB",
         "TModB",
         "0",
         "0.0"
        ],
        [
         "Comments",
         "Comments",
         "525600",
         "100.0"
        ]
       ],
       "shape": {
        "columns": 3,
        "rows": 19
       }
      },
      "text/html": [
       "<div>\n",
       "<style scoped>\n",
       "    .dataframe tbody tr th:only-of-type {\n",
       "        vertical-align: middle;\n",
       "    }\n",
       "\n",
       "    .dataframe tbody tr th {\n",
       "        vertical-align: top;\n",
       "    }\n",
       "\n",
       "    .dataframe thead th {\n",
       "        text-align: right;\n",
       "    }\n",
       "</style>\n",
       "<table border=\"1\" class=\"dataframe\">\n",
       "  <thead>\n",
       "    <tr style=\"text-align: right;\">\n",
       "      <th></th>\n",
       "      <th>columns</th>\n",
       "      <th># missing</th>\n",
       "      <th>% missing</th>\n",
       "    </tr>\n",
       "  </thead>\n",
       "  <tbody>\n",
       "    <tr>\n",
       "      <th>Timestamp</th>\n",
       "      <td>Timestamp</td>\n",
       "      <td>0</td>\n",
       "      <td>0.0</td>\n",
       "    </tr>\n",
       "    <tr>\n",
       "      <th>GHI</th>\n",
       "      <td>GHI</td>\n",
       "      <td>0</td>\n",
       "      <td>0.0</td>\n",
       "    </tr>\n",
       "    <tr>\n",
       "      <th>DNI</th>\n",
       "      <td>DNI</td>\n",
       "      <td>0</td>\n",
       "      <td>0.0</td>\n",
       "    </tr>\n",
       "    <tr>\n",
       "      <th>DHI</th>\n",
       "      <td>DHI</td>\n",
       "      <td>0</td>\n",
       "      <td>0.0</td>\n",
       "    </tr>\n",
       "    <tr>\n",
       "      <th>ModA</th>\n",
       "      <td>ModA</td>\n",
       "      <td>0</td>\n",
       "      <td>0.0</td>\n",
       "    </tr>\n",
       "    <tr>\n",
       "      <th>ModB</th>\n",
       "      <td>ModB</td>\n",
       "      <td>0</td>\n",
       "      <td>0.0</td>\n",
       "    </tr>\n",
       "    <tr>\n",
       "      <th>Tamb</th>\n",
       "      <td>Tamb</td>\n",
       "      <td>0</td>\n",
       "      <td>0.0</td>\n",
       "    </tr>\n",
       "    <tr>\n",
       "      <th>RH</th>\n",
       "      <td>RH</td>\n",
       "      <td>0</td>\n",
       "      <td>0.0</td>\n",
       "    </tr>\n",
       "    <tr>\n",
       "      <th>WS</th>\n",
       "      <td>WS</td>\n",
       "      <td>0</td>\n",
       "      <td>0.0</td>\n",
       "    </tr>\n",
       "    <tr>\n",
       "      <th>WSgust</th>\n",
       "      <td>WSgust</td>\n",
       "      <td>0</td>\n",
       "      <td>0.0</td>\n",
       "    </tr>\n",
       "    <tr>\n",
       "      <th>WSstdev</th>\n",
       "      <td>WSstdev</td>\n",
       "      <td>0</td>\n",
       "      <td>0.0</td>\n",
       "    </tr>\n",
       "    <tr>\n",
       "      <th>WD</th>\n",
       "      <td>WD</td>\n",
       "      <td>0</td>\n",
       "      <td>0.0</td>\n",
       "    </tr>\n",
       "    <tr>\n",
       "      <th>WDstdev</th>\n",
       "      <td>WDstdev</td>\n",
       "      <td>0</td>\n",
       "      <td>0.0</td>\n",
       "    </tr>\n",
       "    <tr>\n",
       "      <th>BP</th>\n",
       "      <td>BP</td>\n",
       "      <td>0</td>\n",
       "      <td>0.0</td>\n",
       "    </tr>\n",
       "    <tr>\n",
       "      <th>Cleaning</th>\n",
       "      <td>Cleaning</td>\n",
       "      <td>0</td>\n",
       "      <td>0.0</td>\n",
       "    </tr>\n",
       "    <tr>\n",
       "      <th>Precipitation</th>\n",
       "      <td>Precipitation</td>\n",
       "      <td>0</td>\n",
       "      <td>0.0</td>\n",
       "    </tr>\n",
       "    <tr>\n",
       "      <th>TModA</th>\n",
       "      <td>TModA</td>\n",
       "      <td>0</td>\n",
       "      <td>0.0</td>\n",
       "    </tr>\n",
       "    <tr>\n",
       "      <th>TModB</th>\n",
       "      <td>TModB</td>\n",
       "      <td>0</td>\n",
       "      <td>0.0</td>\n",
       "    </tr>\n",
       "    <tr>\n",
       "      <th>Comments</th>\n",
       "      <td>Comments</td>\n",
       "      <td>525600</td>\n",
       "      <td>100.0</td>\n",
       "    </tr>\n",
       "  </tbody>\n",
       "</table>\n",
       "</div>"
      ],
      "text/plain": [
       "                     columns  # missing  % missing\n",
       "Timestamp          Timestamp          0        0.0\n",
       "GHI                      GHI          0        0.0\n",
       "DNI                      DNI          0        0.0\n",
       "DHI                      DHI          0        0.0\n",
       "ModA                    ModA          0        0.0\n",
       "ModB                    ModB          0        0.0\n",
       "Tamb                    Tamb          0        0.0\n",
       "RH                        RH          0        0.0\n",
       "WS                        WS          0        0.0\n",
       "WSgust                WSgust          0        0.0\n",
       "WSstdev              WSstdev          0        0.0\n",
       "WD                        WD          0        0.0\n",
       "WDstdev              WDstdev          0        0.0\n",
       "BP                        BP          0        0.0\n",
       "Cleaning            Cleaning          0        0.0\n",
       "Precipitation  Precipitation          0        0.0\n",
       "TModA                  TModA          0        0.0\n",
       "TModB                  TModB          0        0.0\n",
       "Comments            Comments     525600      100.0"
      ]
     },
     "execution_count": 12,
     "metadata": {},
     "output_type": "execute_result"
    }
   ],
   "source": [
    "# Number of missing values for each features \n",
    "no_missing = pd.DataFrame({\n",
    "    'columns':benin_data.columns,\n",
    "    '# missing': benin_data.isna().sum(), \n",
    "    '% missing': benin_data.isna().mean()*100\n",
    "})\n",
    "no_missing"
   ]
  },
  {
   "cell_type": "code",
   "execution_count": null,
   "id": "b8c8d00f",
   "metadata": {},
   "outputs": [
    {
     "name": "stdout",
     "output_type": "stream",
     "text": [
      "====================================================================================================\n",
      "                                                                       Duplicated Values                                                                        \n",
      "====================================================================================================\n",
      "                                                    Number of Duplicated values in the dataset: 0                                                     \n",
      "====================================================================================================\n"
     ]
    }
   ],
   "source": [
    "\n",
    "# Number of Duplicated values \n",
    "print(\"=\"*100)\n",
    "print(\"Duplicated Values\".center(160))\n",
    "print(\"=\"*100)\n",
    "print(f\"Number of Duplicated values in the dataset: {benin_data.duplicated().sum()}\".center(150))\n",
    "print(\"=\"*100, end=\"\\n\")"
   ]
  },
  {
   "cell_type": "code",
   "execution_count": 15,
   "id": "bbb63a05",
   "metadata": {},
   "outputs": [
    {
     "data": {
      "application/vnd.microsoft.datawrangler.viewer.v0+json": {
       "columns": [
        {
         "name": "index",
         "rawType": "object",
         "type": "string"
        },
        {
         "name": "columns",
         "rawType": "object",
         "type": "string"
        },
        {
         "name": "dtypes",
         "rawType": "object",
         "type": "unknown"
        },
        {
         "name": "num of -ve values",
         "rawType": "float64",
         "type": "float"
        },
        {
         "name": "% of -ve values",
         "rawType": "float64",
         "type": "float"
        }
       ],
       "conversionMethod": "pd.DataFrame",
       "ref": "aae920c4-bf39-462c-bc39-09e1c76743dd",
       "rows": [
        [
         "BP",
         "Timestamp",
         "int64",
         "0.0",
         "0.0"
        ],
        [
         "Cleaning",
         "GHI",
         "int64",
         "0.0",
         "0.0"
        ],
        [
         "Comments",
         "DNI",
         "float64",
         "0.0",
         "0.0"
        ],
        [
         "DHI",
         "DHI",
         "float64",
         "259182.0",
         "49.31"
        ],
        [
         "DNI",
         "ModA",
         "float64",
         "275987.0",
         "52.51"
        ],
        [
         "GHI",
         "ModB",
         "float64",
         "258847.0",
         "49.25"
        ],
        [
         "ModA",
         "Tamb",
         "float64",
         "0.0",
         "0.0"
        ],
        [
         "ModB",
         "RH",
         "float64",
         "0.0",
         "0.0"
        ],
        [
         "Precipitation",
         "WS",
         "float64",
         "0.0",
         "0.0"
        ],
        [
         "RH",
         "WSgust",
         "float64",
         "0.0",
         "0.0"
        ],
        [
         "TModA",
         "WSstdev",
         "float64",
         "0.0",
         "0.0"
        ],
        [
         "TModB",
         "WD",
         "float64",
         "0.0",
         "0.0"
        ],
        [
         "Tamb",
         "WDstdev",
         "float64",
         "0.0",
         "0.0"
        ],
        [
         "Timestamp",
         "BP",
         "object",
         null,
         null
        ],
        [
         "WD",
         "Cleaning",
         "float64",
         "0.0",
         "0.0"
        ],
        [
         "WDstdev",
         "Precipitation",
         "float64",
         "0.0",
         "0.0"
        ],
        [
         "WS",
         "TModA",
         "float64",
         "0.0",
         "0.0"
        ],
        [
         "WSgust",
         "TModB",
         "float64",
         "0.0",
         "0.0"
        ],
        [
         "WSstdev",
         "Comments",
         "float64",
         "0.0",
         "0.0"
        ]
       ],
       "shape": {
        "columns": 4,
        "rows": 19
       }
      },
      "text/html": [
       "<div>\n",
       "<style scoped>\n",
       "    .dataframe tbody tr th:only-of-type {\n",
       "        vertical-align: middle;\n",
       "    }\n",
       "\n",
       "    .dataframe tbody tr th {\n",
       "        vertical-align: top;\n",
       "    }\n",
       "\n",
       "    .dataframe thead th {\n",
       "        text-align: right;\n",
       "    }\n",
       "</style>\n",
       "<table border=\"1\" class=\"dataframe\">\n",
       "  <thead>\n",
       "    <tr style=\"text-align: right;\">\n",
       "      <th></th>\n",
       "      <th>columns</th>\n",
       "      <th>dtypes</th>\n",
       "      <th>num of -ve values</th>\n",
       "      <th>% of -ve values</th>\n",
       "    </tr>\n",
       "  </thead>\n",
       "  <tbody>\n",
       "    <tr>\n",
       "      <th>BP</th>\n",
       "      <td>Timestamp</td>\n",
       "      <td>int64</td>\n",
       "      <td>0.0</td>\n",
       "      <td>0.00</td>\n",
       "    </tr>\n",
       "    <tr>\n",
       "      <th>Cleaning</th>\n",
       "      <td>GHI</td>\n",
       "      <td>int64</td>\n",
       "      <td>0.0</td>\n",
       "      <td>0.00</td>\n",
       "    </tr>\n",
       "    <tr>\n",
       "      <th>Comments</th>\n",
       "      <td>DNI</td>\n",
       "      <td>float64</td>\n",
       "      <td>0.0</td>\n",
       "      <td>0.00</td>\n",
       "    </tr>\n",
       "    <tr>\n",
       "      <th>DHI</th>\n",
       "      <td>DHI</td>\n",
       "      <td>float64</td>\n",
       "      <td>259182.0</td>\n",
       "      <td>49.31</td>\n",
       "    </tr>\n",
       "    <tr>\n",
       "      <th>DNI</th>\n",
       "      <td>ModA</td>\n",
       "      <td>float64</td>\n",
       "      <td>275987.0</td>\n",
       "      <td>52.51</td>\n",
       "    </tr>\n",
       "    <tr>\n",
       "      <th>GHI</th>\n",
       "      <td>ModB</td>\n",
       "      <td>float64</td>\n",
       "      <td>258847.0</td>\n",
       "      <td>49.25</td>\n",
       "    </tr>\n",
       "    <tr>\n",
       "      <th>ModA</th>\n",
       "      <td>Tamb</td>\n",
       "      <td>float64</td>\n",
       "      <td>0.0</td>\n",
       "      <td>0.00</td>\n",
       "    </tr>\n",
       "    <tr>\n",
       "      <th>ModB</th>\n",
       "      <td>RH</td>\n",
       "      <td>float64</td>\n",
       "      <td>0.0</td>\n",
       "      <td>0.00</td>\n",
       "    </tr>\n",
       "    <tr>\n",
       "      <th>Precipitation</th>\n",
       "      <td>WS</td>\n",
       "      <td>float64</td>\n",
       "      <td>0.0</td>\n",
       "      <td>0.00</td>\n",
       "    </tr>\n",
       "    <tr>\n",
       "      <th>RH</th>\n",
       "      <td>WSgust</td>\n",
       "      <td>float64</td>\n",
       "      <td>0.0</td>\n",
       "      <td>0.00</td>\n",
       "    </tr>\n",
       "    <tr>\n",
       "      <th>TModA</th>\n",
       "      <td>WSstdev</td>\n",
       "      <td>float64</td>\n",
       "      <td>0.0</td>\n",
       "      <td>0.00</td>\n",
       "    </tr>\n",
       "    <tr>\n",
       "      <th>TModB</th>\n",
       "      <td>WD</td>\n",
       "      <td>float64</td>\n",
       "      <td>0.0</td>\n",
       "      <td>0.00</td>\n",
       "    </tr>\n",
       "    <tr>\n",
       "      <th>Tamb</th>\n",
       "      <td>WDstdev</td>\n",
       "      <td>float64</td>\n",
       "      <td>0.0</td>\n",
       "      <td>0.00</td>\n",
       "    </tr>\n",
       "    <tr>\n",
       "      <th>Timestamp</th>\n",
       "      <td>BP</td>\n",
       "      <td>object</td>\n",
       "      <td>NaN</td>\n",
       "      <td>NaN</td>\n",
       "    </tr>\n",
       "    <tr>\n",
       "      <th>WD</th>\n",
       "      <td>Cleaning</td>\n",
       "      <td>float64</td>\n",
       "      <td>0.0</td>\n",
       "      <td>0.00</td>\n",
       "    </tr>\n",
       "    <tr>\n",
       "      <th>WDstdev</th>\n",
       "      <td>Precipitation</td>\n",
       "      <td>float64</td>\n",
       "      <td>0.0</td>\n",
       "      <td>0.00</td>\n",
       "    </tr>\n",
       "    <tr>\n",
       "      <th>WS</th>\n",
       "      <td>TModA</td>\n",
       "      <td>float64</td>\n",
       "      <td>0.0</td>\n",
       "      <td>0.00</td>\n",
       "    </tr>\n",
       "    <tr>\n",
       "      <th>WSgust</th>\n",
       "      <td>TModB</td>\n",
       "      <td>float64</td>\n",
       "      <td>0.0</td>\n",
       "      <td>0.00</td>\n",
       "    </tr>\n",
       "    <tr>\n",
       "      <th>WSstdev</th>\n",
       "      <td>Comments</td>\n",
       "      <td>float64</td>\n",
       "      <td>0.0</td>\n",
       "      <td>0.00</td>\n",
       "    </tr>\n",
       "  </tbody>\n",
       "</table>\n",
       "</div>"
      ],
      "text/plain": [
       "                     columns   dtypes  num of -ve values  % of -ve values\n",
       "BP                 Timestamp    int64                0.0             0.00\n",
       "Cleaning                 GHI    int64                0.0             0.00\n",
       "Comments                 DNI  float64                0.0             0.00\n",
       "DHI                      DHI  float64           259182.0            49.31\n",
       "DNI                     ModA  float64           275987.0            52.51\n",
       "GHI                     ModB  float64           258847.0            49.25\n",
       "ModA                    Tamb  float64                0.0             0.00\n",
       "ModB                      RH  float64                0.0             0.00\n",
       "Precipitation             WS  float64                0.0             0.00\n",
       "RH                    WSgust  float64                0.0             0.00\n",
       "TModA                WSstdev  float64                0.0             0.00\n",
       "TModB                     WD  float64                0.0             0.00\n",
       "Tamb                 WDstdev  float64                0.0             0.00\n",
       "Timestamp                 BP   object                NaN              NaN\n",
       "WD                  Cleaning  float64                0.0             0.00\n",
       "WDstdev        Precipitation  float64                0.0             0.00\n",
       "WS                     TModA  float64                0.0             0.00\n",
       "WSgust                 TModB  float64                0.0             0.00\n",
       "WSstdev             Comments  float64                0.0             0.00"
      ]
     },
     "execution_count": 15,
     "metadata": {},
     "output_type": "execute_result"
    }
   ],
   "source": [
    "# finding negative values \n",
    "negative_values = pd.DataFrame({\n",
    "    'columns': benin_data.columns,\n",
    "    'dtypes': benin_data.dtypes,\n",
    "    'num of -ve values': benin_data.select_dtypes(include='number').lt(0).sum(),\n",
    "    \"% of -ve values\": round(benin_data.select_dtypes(include='number').lt(0).mean() *100, 2),\n",
    "})\n",
    "\n",
    "negative_values"
   ]
  },
  {
   "cell_type": "code",
   "execution_count": 16,
   "id": "a7e3cec4",
   "metadata": {},
   "outputs": [
    {
     "data": {
      "application/vnd.microsoft.datawrangler.viewer.v0+json": {
       "columns": [
        {
         "name": "index",
         "rawType": "object",
         "type": "string"
        },
        {
         "name": "GHI",
         "rawType": "float64",
         "type": "float"
        },
        {
         "name": "DNI",
         "rawType": "float64",
         "type": "float"
        },
        {
         "name": "DHI",
         "rawType": "float64",
         "type": "float"
        },
        {
         "name": "ModA",
         "rawType": "float64",
         "type": "float"
        },
        {
         "name": "ModB",
         "rawType": "float64",
         "type": "float"
        },
        {
         "name": "Tamb",
         "rawType": "float64",
         "type": "float"
        },
        {
         "name": "RH",
         "rawType": "float64",
         "type": "float"
        },
        {
         "name": "WS",
         "rawType": "float64",
         "type": "float"
        },
        {
         "name": "WSgust",
         "rawType": "float64",
         "type": "float"
        },
        {
         "name": "WSstdev",
         "rawType": "float64",
         "type": "float"
        },
        {
         "name": "WD",
         "rawType": "float64",
         "type": "float"
        },
        {
         "name": "WDstdev",
         "rawType": "float64",
         "type": "float"
        },
        {
         "name": "BP",
         "rawType": "float64",
         "type": "float"
        },
        {
         "name": "Cleaning",
         "rawType": "float64",
         "type": "float"
        },
        {
         "name": "Precipitation",
         "rawType": "float64",
         "type": "float"
        },
        {
         "name": "TModA",
         "rawType": "float64",
         "type": "float"
        },
        {
         "name": "TModB",
         "rawType": "float64",
         "type": "float"
        },
        {
         "name": "Comments",
         "rawType": "float64",
         "type": "float"
        }
       ],
       "conversionMethod": "pd.DataFrame",
       "ref": "14c6e905-bbea-4221-8745-9ecc2f46f610",
       "rows": [
        [
         "count",
         "525600.0",
         "525600.0",
         "525600.0",
         "525600.0",
         "525600.0",
         "525600.0",
         "525600.0",
         "525600.0",
         "525600.0",
         "525600.0",
         "525600.0",
         "525600.0",
         "525600.0",
         "525600.0",
         "525600.0",
         "525600.0",
         "525600.0",
         "0.0"
        ],
        [
         "mean",
         "240.559452435312",
         "167.18751598173515",
         "115.35896080669708",
         "236.5894961948249",
         "228.883575913242",
         "28.179682838660575",
         "54.4879691780822",
         "2.121112823439878",
         "2.8091948249619483",
         "0.4733896499238964",
         "153.43517199391172",
         "8.582406582952814",
         "994.197199391172",
         "0.0009227549467275495",
         "0.001904870624048706",
         "35.2460256849315",
         "32.47173554033485",
         null
        ],
        [
         "std",
         "331.13132727519655",
         "261.7105006198377",
         "158.69107385933233",
         "326.89485851507413",
         "316.53651537980164",
         "5.924296981332788",
         "28.073068781205844",
         "1.6034658845357102",
         "2.029119651774774",
         "0.2733946213736333",
         "102.33284204706163",
         "6.385864053158973",
         "2.474993197988568",
         "0.030362892221282408",
         "0.03711520540633969",
         "14.807257528633412",
         "12.348743384105228",
         null
        ],
        [
         "min",
         "-12.9",
         "-7.8",
         "-12.6",
         "0.0",
         "0.0",
         "11.0",
         "2.1",
         "0.0",
         "0.0",
         "0.0",
         "0.0",
         "0.0",
         "985.0",
         "0.0",
         "0.0",
         "9.0",
         "8.1",
         null
        ],
        [
         "25%",
         "-2.0",
         "-0.5",
         "-2.1",
         "0.0",
         "0.0",
         "24.2",
         "28.8",
         "1.0",
         "1.3",
         "0.4",
         "59.0",
         "3.7",
         "993.0",
         "0.0",
         "0.0",
         "24.2",
         "23.6",
         null
        ],
        [
         "50%",
         "1.8",
         "-0.1",
         "1.6",
         "4.5",
         "4.3",
         "28.0",
         "55.1",
         "1.9",
         "2.6",
         "0.5",
         "181.0",
         "8.6",
         "994.0",
         "0.0",
         "0.0",
         "30.0",
         "28.9",
         null
        ],
        [
         "75%",
         "483.4",
         "314.2",
         "216.3",
         "463.7",
         "447.9",
         "32.3",
         "80.1",
         "3.1",
         "4.1",
         "0.6",
         "235.1",
         "12.3",
         "996.0",
         "0.0",
         "0.0",
         "46.9",
         "41.5",
         null
        ],
        [
         "max",
         "1413.0",
         "952.3",
         "759.2",
         "1342.3",
         "1342.3",
         "43.8",
         "100.0",
         "19.5",
         "26.6",
         "4.2",
         "360.0",
         "99.4",
         "1003.0",
         "1.0",
         "2.5",
         "81.0",
         "72.5",
         null
        ]
       ],
       "shape": {
        "columns": 18,
        "rows": 8
       }
      },
      "text/html": [
       "<div>\n",
       "<style scoped>\n",
       "    .dataframe tbody tr th:only-of-type {\n",
       "        vertical-align: middle;\n",
       "    }\n",
       "\n",
       "    .dataframe tbody tr th {\n",
       "        vertical-align: top;\n",
       "    }\n",
       "\n",
       "    .dataframe thead th {\n",
       "        text-align: right;\n",
       "    }\n",
       "</style>\n",
       "<table border=\"1\" class=\"dataframe\">\n",
       "  <thead>\n",
       "    <tr style=\"text-align: right;\">\n",
       "      <th></th>\n",
       "      <th>GHI</th>\n",
       "      <th>DNI</th>\n",
       "      <th>DHI</th>\n",
       "      <th>ModA</th>\n",
       "      <th>ModB</th>\n",
       "      <th>Tamb</th>\n",
       "      <th>RH</th>\n",
       "      <th>WS</th>\n",
       "      <th>WSgust</th>\n",
       "      <th>WSstdev</th>\n",
       "      <th>WD</th>\n",
       "      <th>WDstdev</th>\n",
       "      <th>BP</th>\n",
       "      <th>Cleaning</th>\n",
       "      <th>Precipitation</th>\n",
       "      <th>TModA</th>\n",
       "      <th>TModB</th>\n",
       "      <th>Comments</th>\n",
       "    </tr>\n",
       "  </thead>\n",
       "  <tbody>\n",
       "    <tr>\n",
       "      <th>count</th>\n",
       "      <td>525600.000000</td>\n",
       "      <td>525600.000000</td>\n",
       "      <td>525600.000000</td>\n",
       "      <td>525600.000000</td>\n",
       "      <td>525600.000000</td>\n",
       "      <td>525600.000000</td>\n",
       "      <td>525600.000000</td>\n",
       "      <td>525600.000000</td>\n",
       "      <td>525600.000000</td>\n",
       "      <td>525600.000000</td>\n",
       "      <td>525600.000000</td>\n",
       "      <td>525600.000000</td>\n",
       "      <td>525600.000000</td>\n",
       "      <td>525600.000000</td>\n",
       "      <td>525600.000000</td>\n",
       "      <td>525600.000000</td>\n",
       "      <td>525600.000000</td>\n",
       "      <td>0.0</td>\n",
       "    </tr>\n",
       "    <tr>\n",
       "      <th>mean</th>\n",
       "      <td>240.559452</td>\n",
       "      <td>167.187516</td>\n",
       "      <td>115.358961</td>\n",
       "      <td>236.589496</td>\n",
       "      <td>228.883576</td>\n",
       "      <td>28.179683</td>\n",
       "      <td>54.487969</td>\n",
       "      <td>2.121113</td>\n",
       "      <td>2.809195</td>\n",
       "      <td>0.473390</td>\n",
       "      <td>153.435172</td>\n",
       "      <td>8.582407</td>\n",
       "      <td>994.197199</td>\n",
       "      <td>0.000923</td>\n",
       "      <td>0.001905</td>\n",
       "      <td>35.246026</td>\n",
       "      <td>32.471736</td>\n",
       "      <td>NaN</td>\n",
       "    </tr>\n",
       "    <tr>\n",
       "      <th>std</th>\n",
       "      <td>331.131327</td>\n",
       "      <td>261.710501</td>\n",
       "      <td>158.691074</td>\n",
       "      <td>326.894859</td>\n",
       "      <td>316.536515</td>\n",
       "      <td>5.924297</td>\n",
       "      <td>28.073069</td>\n",
       "      <td>1.603466</td>\n",
       "      <td>2.029120</td>\n",
       "      <td>0.273395</td>\n",
       "      <td>102.332842</td>\n",
       "      <td>6.385864</td>\n",
       "      <td>2.474993</td>\n",
       "      <td>0.030363</td>\n",
       "      <td>0.037115</td>\n",
       "      <td>14.807258</td>\n",
       "      <td>12.348743</td>\n",
       "      <td>NaN</td>\n",
       "    </tr>\n",
       "    <tr>\n",
       "      <th>min</th>\n",
       "      <td>-12.900000</td>\n",
       "      <td>-7.800000</td>\n",
       "      <td>-12.600000</td>\n",
       "      <td>0.000000</td>\n",
       "      <td>0.000000</td>\n",
       "      <td>11.000000</td>\n",
       "      <td>2.100000</td>\n",
       "      <td>0.000000</td>\n",
       "      <td>0.000000</td>\n",
       "      <td>0.000000</td>\n",
       "      <td>0.000000</td>\n",
       "      <td>0.000000</td>\n",
       "      <td>985.000000</td>\n",
       "      <td>0.000000</td>\n",
       "      <td>0.000000</td>\n",
       "      <td>9.000000</td>\n",
       "      <td>8.100000</td>\n",
       "      <td>NaN</td>\n",
       "    </tr>\n",
       "    <tr>\n",
       "      <th>25%</th>\n",
       "      <td>-2.000000</td>\n",
       "      <td>-0.500000</td>\n",
       "      <td>-2.100000</td>\n",
       "      <td>0.000000</td>\n",
       "      <td>0.000000</td>\n",
       "      <td>24.200000</td>\n",
       "      <td>28.800000</td>\n",
       "      <td>1.000000</td>\n",
       "      <td>1.300000</td>\n",
       "      <td>0.400000</td>\n",
       "      <td>59.000000</td>\n",
       "      <td>3.700000</td>\n",
       "      <td>993.000000</td>\n",
       "      <td>0.000000</td>\n",
       "      <td>0.000000</td>\n",
       "      <td>24.200000</td>\n",
       "      <td>23.600000</td>\n",
       "      <td>NaN</td>\n",
       "    </tr>\n",
       "    <tr>\n",
       "      <th>50%</th>\n",
       "      <td>1.800000</td>\n",
       "      <td>-0.100000</td>\n",
       "      <td>1.600000</td>\n",
       "      <td>4.500000</td>\n",
       "      <td>4.300000</td>\n",
       "      <td>28.000000</td>\n",
       "      <td>55.100000</td>\n",
       "      <td>1.900000</td>\n",
       "      <td>2.600000</td>\n",
       "      <td>0.500000</td>\n",
       "      <td>181.000000</td>\n",
       "      <td>8.600000</td>\n",
       "      <td>994.000000</td>\n",
       "      <td>0.000000</td>\n",
       "      <td>0.000000</td>\n",
       "      <td>30.000000</td>\n",
       "      <td>28.900000</td>\n",
       "      <td>NaN</td>\n",
       "    </tr>\n",
       "    <tr>\n",
       "      <th>75%</th>\n",
       "      <td>483.400000</td>\n",
       "      <td>314.200000</td>\n",
       "      <td>216.300000</td>\n",
       "      <td>463.700000</td>\n",
       "      <td>447.900000</td>\n",
       "      <td>32.300000</td>\n",
       "      <td>80.100000</td>\n",
       "      <td>3.100000</td>\n",
       "      <td>4.100000</td>\n",
       "      <td>0.600000</td>\n",
       "      <td>235.100000</td>\n",
       "      <td>12.300000</td>\n",
       "      <td>996.000000</td>\n",
       "      <td>0.000000</td>\n",
       "      <td>0.000000</td>\n",
       "      <td>46.900000</td>\n",
       "      <td>41.500000</td>\n",
       "      <td>NaN</td>\n",
       "    </tr>\n",
       "    <tr>\n",
       "      <th>max</th>\n",
       "      <td>1413.000000</td>\n",
       "      <td>952.300000</td>\n",
       "      <td>759.200000</td>\n",
       "      <td>1342.300000</td>\n",
       "      <td>1342.300000</td>\n",
       "      <td>43.800000</td>\n",
       "      <td>100.000000</td>\n",
       "      <td>19.500000</td>\n",
       "      <td>26.600000</td>\n",
       "      <td>4.200000</td>\n",
       "      <td>360.000000</td>\n",
       "      <td>99.400000</td>\n",
       "      <td>1003.000000</td>\n",
       "      <td>1.000000</td>\n",
       "      <td>2.500000</td>\n",
       "      <td>81.000000</td>\n",
       "      <td>72.500000</td>\n",
       "      <td>NaN</td>\n",
       "    </tr>\n",
       "  </tbody>\n",
       "</table>\n",
       "</div>"
      ],
      "text/plain": [
       "                 GHI            DNI            DHI           ModA  \\\n",
       "count  525600.000000  525600.000000  525600.000000  525600.000000   \n",
       "mean      240.559452     167.187516     115.358961     236.589496   \n",
       "std       331.131327     261.710501     158.691074     326.894859   \n",
       "min       -12.900000      -7.800000     -12.600000       0.000000   \n",
       "25%        -2.000000      -0.500000      -2.100000       0.000000   \n",
       "50%         1.800000      -0.100000       1.600000       4.500000   \n",
       "75%       483.400000     314.200000     216.300000     463.700000   \n",
       "max      1413.000000     952.300000     759.200000    1342.300000   \n",
       "\n",
       "                ModB           Tamb             RH             WS  \\\n",
       "count  525600.000000  525600.000000  525600.000000  525600.000000   \n",
       "mean      228.883576      28.179683      54.487969       2.121113   \n",
       "std       316.536515       5.924297      28.073069       1.603466   \n",
       "min         0.000000      11.000000       2.100000       0.000000   \n",
       "25%         0.000000      24.200000      28.800000       1.000000   \n",
       "50%         4.300000      28.000000      55.100000       1.900000   \n",
       "75%       447.900000      32.300000      80.100000       3.100000   \n",
       "max      1342.300000      43.800000     100.000000      19.500000   \n",
       "\n",
       "              WSgust        WSstdev             WD        WDstdev  \\\n",
       "count  525600.000000  525600.000000  525600.000000  525600.000000   \n",
       "mean        2.809195       0.473390     153.435172       8.582407   \n",
       "std         2.029120       0.273395     102.332842       6.385864   \n",
       "min         0.000000       0.000000       0.000000       0.000000   \n",
       "25%         1.300000       0.400000      59.000000       3.700000   \n",
       "50%         2.600000       0.500000     181.000000       8.600000   \n",
       "75%         4.100000       0.600000     235.100000      12.300000   \n",
       "max        26.600000       4.200000     360.000000      99.400000   \n",
       "\n",
       "                  BP       Cleaning  Precipitation          TModA  \\\n",
       "count  525600.000000  525600.000000  525600.000000  525600.000000   \n",
       "mean      994.197199       0.000923       0.001905      35.246026   \n",
       "std         2.474993       0.030363       0.037115      14.807258   \n",
       "min       985.000000       0.000000       0.000000       9.000000   \n",
       "25%       993.000000       0.000000       0.000000      24.200000   \n",
       "50%       994.000000       0.000000       0.000000      30.000000   \n",
       "75%       996.000000       0.000000       0.000000      46.900000   \n",
       "max      1003.000000       1.000000       2.500000      81.000000   \n",
       "\n",
       "               TModB  Comments  \n",
       "count  525600.000000       0.0  \n",
       "mean       32.471736       NaN  \n",
       "std        12.348743       NaN  \n",
       "min         8.100000       NaN  \n",
       "25%        23.600000       NaN  \n",
       "50%        28.900000       NaN  \n",
       "75%        41.500000       NaN  \n",
       "max        72.500000       NaN  "
      ]
     },
     "execution_count": 16,
     "metadata": {},
     "output_type": "execute_result"
    }
   ],
   "source": [
    "# Statistical Summery \n",
    "benin_data.describe()"
   ]
  },
  {
   "cell_type": "markdown",
   "id": "c628b99e",
   "metadata": {},
   "source": [
    "- The above data profiling outputs describes:\n",
    "  - The dataset one columns with missing values of all records\n",
    "  -  There is no duplicated record in the dataset\n",
    "  -  The Dataset contains 19 features and 525600 records\n",
    "  -  The Dataset has "
   ]
  },
  {
   "cell_type": "code",
   "execution_count": null,
   "id": "2b9c715a",
   "metadata": {},
   "outputs": [],
   "source": []
  },
  {
   "cell_type": "markdown",
   "id": "9a776c45",
   "metadata": {},
   "source": [
    "### EDA Univariate Analysis"
   ]
  },
  {
   "cell_type": "code",
   "execution_count": null,
   "id": "66b89700",
   "metadata": {},
   "outputs": [],
   "source": [
    "import matplotlib.pyplot as plt  \n",
    "# import seaborn as sbn "
   ]
  },
  {
   "cell_type": "markdown",
   "id": "82cea084",
   "metadata": {},
   "source": [
    "\"Looking for outlines, missing values and incorrect entries on `GHI, DNI, DHI`and outlier on `ModB, ModA` and wend speed data `WS, and WSgust`\""
   ]
  },
  {
   "cell_type": "code",
   "execution_count": 17,
   "id": "0817821b",
   "metadata": {},
   "outputs": [
    {
     "data": {
      "application/vnd.microsoft.datawrangler.viewer.v0+json": {
       "columns": [
        {
         "name": "index",
         "rawType": "object",
         "type": "string"
        },
        {
         "name": "GHI",
         "rawType": "float64",
         "type": "float"
        },
        {
         "name": "DNI",
         "rawType": "float64",
         "type": "float"
        },
        {
         "name": "DHI",
         "rawType": "float64",
         "type": "float"
        },
        {
         "name": "ModA",
         "rawType": "float64",
         "type": "float"
        },
        {
         "name": "ModB",
         "rawType": "float64",
         "type": "float"
        },
        {
         "name": "WS",
         "rawType": "float64",
         "type": "float"
        },
        {
         "name": "WSgust",
         "rawType": "float64",
         "type": "float"
        }
       ],
       "conversionMethod": "pd.DataFrame",
       "ref": "7c31516e-7507-4abb-97ec-22aa866f524a",
       "rows": [
        [
         "count",
         "525600.0",
         "525600.0",
         "525600.0",
         "525600.0",
         "525600.0",
         "525600.0",
         "525600.0"
        ],
        [
         "mean",
         "240.559452435312",
         "167.18751598173515",
         "115.35896080669708",
         "236.5894961948249",
         "228.883575913242",
         "2.121112823439878",
         "2.8091948249619483"
        ],
        [
         "std",
         "331.13132727519655",
         "261.7105006198377",
         "158.69107385933233",
         "326.89485851507413",
         "316.53651537980164",
         "1.6034658845357102",
         "2.029119651774774"
        ],
        [
         "min",
         "-12.9",
         "-7.8",
         "-12.6",
         "0.0",
         "0.0",
         "0.0",
         "0.0"
        ],
        [
         "25%",
         "-2.0",
         "-0.5",
         "-2.1",
         "0.0",
         "0.0",
         "1.0",
         "1.3"
        ],
        [
         "50%",
         "1.8",
         "-0.1",
         "1.6",
         "4.5",
         "4.3",
         "1.9",
         "2.6"
        ],
        [
         "75%",
         "483.4",
         "314.2",
         "216.3",
         "463.7",
         "447.9",
         "3.1",
         "4.1"
        ],
        [
         "max",
         "1413.0",
         "952.3",
         "759.2",
         "1342.3",
         "1342.3",
         "19.5",
         "26.6"
        ]
       ],
       "shape": {
        "columns": 7,
        "rows": 8
       }
      },
      "text/html": [
       "<div>\n",
       "<style scoped>\n",
       "    .dataframe tbody tr th:only-of-type {\n",
       "        vertical-align: middle;\n",
       "    }\n",
       "\n",
       "    .dataframe tbody tr th {\n",
       "        vertical-align: top;\n",
       "    }\n",
       "\n",
       "    .dataframe thead th {\n",
       "        text-align: right;\n",
       "    }\n",
       "</style>\n",
       "<table border=\"1\" class=\"dataframe\">\n",
       "  <thead>\n",
       "    <tr style=\"text-align: right;\">\n",
       "      <th></th>\n",
       "      <th>GHI</th>\n",
       "      <th>DNI</th>\n",
       "      <th>DHI</th>\n",
       "      <th>ModA</th>\n",
       "      <th>ModB</th>\n",
       "      <th>WS</th>\n",
       "      <th>WSgust</th>\n",
       "    </tr>\n",
       "  </thead>\n",
       "  <tbody>\n",
       "    <tr>\n",
       "      <th>count</th>\n",
       "      <td>525600.000000</td>\n",
       "      <td>525600.000000</td>\n",
       "      <td>525600.000000</td>\n",
       "      <td>525600.000000</td>\n",
       "      <td>525600.000000</td>\n",
       "      <td>525600.000000</td>\n",
       "      <td>525600.000000</td>\n",
       "    </tr>\n",
       "    <tr>\n",
       "      <th>mean</th>\n",
       "      <td>240.559452</td>\n",
       "      <td>167.187516</td>\n",
       "      <td>115.358961</td>\n",
       "      <td>236.589496</td>\n",
       "      <td>228.883576</td>\n",
       "      <td>2.121113</td>\n",
       "      <td>2.809195</td>\n",
       "    </tr>\n",
       "    <tr>\n",
       "      <th>std</th>\n",
       "      <td>331.131327</td>\n",
       "      <td>261.710501</td>\n",
       "      <td>158.691074</td>\n",
       "      <td>326.894859</td>\n",
       "      <td>316.536515</td>\n",
       "      <td>1.603466</td>\n",
       "      <td>2.029120</td>\n",
       "    </tr>\n",
       "    <tr>\n",
       "      <th>min</th>\n",
       "      <td>-12.900000</td>\n",
       "      <td>-7.800000</td>\n",
       "      <td>-12.600000</td>\n",
       "      <td>0.000000</td>\n",
       "      <td>0.000000</td>\n",
       "      <td>0.000000</td>\n",
       "      <td>0.000000</td>\n",
       "    </tr>\n",
       "    <tr>\n",
       "      <th>25%</th>\n",
       "      <td>-2.000000</td>\n",
       "      <td>-0.500000</td>\n",
       "      <td>-2.100000</td>\n",
       "      <td>0.000000</td>\n",
       "      <td>0.000000</td>\n",
       "      <td>1.000000</td>\n",
       "      <td>1.300000</td>\n",
       "    </tr>\n",
       "    <tr>\n",
       "      <th>50%</th>\n",
       "      <td>1.800000</td>\n",
       "      <td>-0.100000</td>\n",
       "      <td>1.600000</td>\n",
       "      <td>4.500000</td>\n",
       "      <td>4.300000</td>\n",
       "      <td>1.900000</td>\n",
       "      <td>2.600000</td>\n",
       "    </tr>\n",
       "    <tr>\n",
       "      <th>75%</th>\n",
       "      <td>483.400000</td>\n",
       "      <td>314.200000</td>\n",
       "      <td>216.300000</td>\n",
       "      <td>463.700000</td>\n",
       "      <td>447.900000</td>\n",
       "      <td>3.100000</td>\n",
       "      <td>4.100000</td>\n",
       "    </tr>\n",
       "    <tr>\n",
       "      <th>max</th>\n",
       "      <td>1413.000000</td>\n",
       "      <td>952.300000</td>\n",
       "      <td>759.200000</td>\n",
       "      <td>1342.300000</td>\n",
       "      <td>1342.300000</td>\n",
       "      <td>19.500000</td>\n",
       "      <td>26.600000</td>\n",
       "    </tr>\n",
       "  </tbody>\n",
       "</table>\n",
       "</div>"
      ],
      "text/plain": [
       "                 GHI            DNI            DHI           ModA  \\\n",
       "count  525600.000000  525600.000000  525600.000000  525600.000000   \n",
       "mean      240.559452     167.187516     115.358961     236.589496   \n",
       "std       331.131327     261.710501     158.691074     326.894859   \n",
       "min       -12.900000      -7.800000     -12.600000       0.000000   \n",
       "25%        -2.000000      -0.500000      -2.100000       0.000000   \n",
       "50%         1.800000      -0.100000       1.600000       4.500000   \n",
       "75%       483.400000     314.200000     216.300000     463.700000   \n",
       "max      1413.000000     952.300000     759.200000    1342.300000   \n",
       "\n",
       "                ModB             WS         WSgust  \n",
       "count  525600.000000  525600.000000  525600.000000  \n",
       "mean      228.883576       2.121113       2.809195  \n",
       "std       316.536515       1.603466       2.029120  \n",
       "min         0.000000       0.000000       0.000000  \n",
       "25%         0.000000       1.000000       1.300000  \n",
       "50%         4.300000       1.900000       2.600000  \n",
       "75%       447.900000       3.100000       4.100000  \n",
       "max      1342.300000      19.500000      26.600000  "
      ]
     },
     "execution_count": 17,
     "metadata": {},
     "output_type": "execute_result"
    }
   ],
   "source": [
    "# checking incorrect entries of GHI, DNI, and DHI\n",
    "benin_data[['GHI', 'DNI', 'DHI', 'ModA','ModB','WS', 'WSgust']].describe()"
   ]
  },
  {
   "cell_type": "code",
   "execution_count": 18,
   "id": "d2e3f9b6",
   "metadata": {},
   "outputs": [
    {
     "data": {
      "image/png": "[encoded data removed]",
      "text/plain": [
       "<Figure size 2000x1500 with 4 Axes>"
      ]
     },
     "metadata": {},
     "output_type": "display_data"
    }
   ],
   "source": [
    "# checking for outliers for Modb, and ModA, WS, WSgust using boxplot\n",
    "plt.figure(figsize=(20, 15))\n",
    "for i, col in enumerate(['ModA', 'ModB', 'WS', 'WSgust'], start = 1):\n",
    "    plt.subplot(3,8,i)\n",
    "    plt.boxplot(benin_data[col])\n",
    "    plt.xlabel(col)\n",
    "    plt.grid(True)\n",
    "plt.tight_layout()\n",
    "plt.show()\n",
    "    "
   ]
  },
  {
   "cell_type": "markdown",
   "id": "bb95bcc7",
   "metadata": {},
   "source": [
    "## Enter Quantile Range "
   ]
  },
  {
   "cell_type": "code",
   "execution_count": 19,
   "id": "585854bd",
   "metadata": {},
   "outputs": [
    {
     "data": {
      "application/vnd.microsoft.datawrangler.viewer.v0+json": {
       "columns": [
        {
         "name": "index",
         "rawType": "object",
         "type": "string"
        },
        {
         "name": "column",
         "rawType": "object",
         "type": "string"
        },
        {
         "name": "# of outlier",
         "rawType": "int64",
         "type": "integer"
        },
        {
         "name": "% of Outlier",
         "rawType": "float64",
         "type": "float"
        }
       ],
       "conversionMethod": "pd.DataFrame",
       "ref": "7e76db01-d14f-48a3-9101-3484e6b6268e",
       "rows": [
        [
         "GHI",
         "GHI",
         "145",
         "0.03"
        ],
        [
         "DNI",
         "DNI",
         "15196",
         "2.89"
        ],
        [
         "DHI",
         "DHI",
         "8733",
         "1.66"
        ],
        [
         "ModA",
         "ModA",
         "98",
         "0.02"
        ],
        [
         "ModB",
         "ModB",
         "240",
         "0.05"
        ],
        [
         "WS",
         "WS",
         "6717",
         "1.28"
        ],
        [
         "WSgust",
         "WSgust",
         "5368",
         "1.02"
        ]
       ],
       "shape": {
        "columns": 3,
        "rows": 7
       }
      },
      "text/html": [
       "<div>\n",
       "<style scoped>\n",
       "    .dataframe tbody tr th:only-of-type {\n",
       "        vertical-align: middle;\n",
       "    }\n",
       "\n",
       "    .dataframe tbody tr th {\n",
       "        vertical-align: top;\n",
       "    }\n",
       "\n",
       "    .dataframe thead th {\n",
       "        text-align: right;\n",
       "    }\n",
       "</style>\n",
       "<table border=\"1\" class=\"dataframe\">\n",
       "  <thead>\n",
       "    <tr style=\"text-align: right;\">\n",
       "      <th></th>\n",
       "      <th>column</th>\n",
       "      <th># of outlier</th>\n",
       "      <th>% of Outlier</th>\n",
       "    </tr>\n",
       "  </thead>\n",
       "  <tbody>\n",
       "    <tr>\n",
       "      <th>GHI</th>\n",
       "      <td>GHI</td>\n",
       "      <td>145</td>\n",
       "      <td>0.03</td>\n",
       "    </tr>\n",
       "    <tr>\n",
       "      <th>DNI</th>\n",
       "      <td>DNI</td>\n",
       "      <td>15196</td>\n",
       "      <td>2.89</td>\n",
       "    </tr>\n",
       "    <tr>\n",
       "      <th>DHI</th>\n",
       "      <td>DHI</td>\n",
       "      <td>8733</td>\n",
       "      <td>1.66</td>\n",
       "    </tr>\n",
       "    <tr>\n",
       "      <th>ModA</th>\n",
       "      <td>ModA</td>\n",
       "      <td>98</td>\n",
       "      <td>0.02</td>\n",
       "    </tr>\n",
       "    <tr>\n",
       "      <th>ModB</th>\n",
       "      <td>ModB</td>\n",
       "      <td>240</td>\n",
       "      <td>0.05</td>\n",
       "    </tr>\n",
       "    <tr>\n",
       "      <th>WS</th>\n",
       "      <td>WS</td>\n",
       "      <td>6717</td>\n",
       "      <td>1.28</td>\n",
       "    </tr>\n",
       "    <tr>\n",
       "      <th>WSgust</th>\n",
       "      <td>WSgust</td>\n",
       "      <td>5368</td>\n",
       "      <td>1.02</td>\n",
       "    </tr>\n",
       "  </tbody>\n",
       "</table>\n",
       "</div>"
      ],
      "text/plain": [
       "        column  # of outlier  % of Outlier\n",
       "GHI        GHI           145          0.03\n",
       "DNI        DNI         15196          2.89\n",
       "DHI        DHI          8733          1.66\n",
       "ModA      ModA            98          0.02\n",
       "ModB      ModB           240          0.05\n",
       "WS          WS          6717          1.28\n",
       "WSgust  WSgust          5368          1.02"
      ]
     },
     "execution_count": 19,
     "metadata": {},
     "output_type": "execute_result"
    }
   ],
   "source": [
    "column = ['GHI', 'DNI', 'DHI', 'ModA','ModB','WS', 'WSgust']\n",
    "\n",
    "def IQR_outlier(columns):\n",
    "    quantile1 = columns.quantile(0.25)\n",
    "    quantile3 = columns.quantile(0.75)\n",
    "    iqr = quantile3 - quantile1\n",
    "    lowerbound = quantile1 - 1.5 * iqr \n",
    "    upperbound = quantile3 + 1.5 * iqr\n",
    "    \n",
    "    return (columns <lowerbound) | (columns>upperbound)\n",
    "\n",
    "outlier = IQR_outlier(benin_data[column])\n",
    "\n",
    "outlier = pd.DataFrame({\n",
    "    'column':column,\n",
    "    '# of outlier': IQR_outlier(benin_data[column]).sum(),\n",
    "    '% of Outlier': round(IQR_outlier(benin_data[column]).mean() * 100,2),\n",
    "})\n",
    "\n",
    "outlier"
   ]
  },
  {
   "cell_type": "markdown",
   "id": "1d715b48",
   "metadata": {},
   "source": [
    "## Checking Outliers with Z Score"
   ]
  },
  {
   "cell_type": "code",
   "execution_count": null,
   "id": "9092cb2b",
   "metadata": {},
   "outputs": [
    {
     "data": {
      "application/vnd.microsoft.datawrangler.viewer.v0+json": {
       "columns": [
        {
         "name": "index",
         "rawType": "int64",
         "type": "integer"
        },
        {
         "name": "column",
         "rawType": "object",
         "type": "string"
        },
        {
         "name": "# of outlier",
         "rawType": "int64",
         "type": "integer"
        },
        {
         "name": "% of Outlier",
         "rawType": "float64",
         "type": "float"
        }
       ],
       "conversionMethod": "pd.DataFrame",
       "ref": "4bff2b55-a7c2-4958-a348-a716914d2f03",
       "rows": [
        [
         "0",
         "DHI",
         "3738",
         "0.71"
        ],
        [
         "1",
         "GHI",
         "89",
         "0.02"
        ],
        [
         "2",
         "DNI",
         "0",
         "0.0"
        ],
        [
         "3",
         "ModA",
         "27",
         "0.01"
        ],
        [
         "4",
         "ModB",
         "63",
         "0.01"
        ],
        [
         "5",
         "WS",
         "3109",
         "0.59"
        ],
        [
         "6",
         "WSgust",
         "3500",
         "0.67"
        ]
       ],
       "shape": {
        "columns": 3,
        "rows": 7
       }
      },
      "text/html": [
       "<div>\n",
       "<style scoped>\n",
       "    .dataframe tbody tr th:only-of-type {\n",
       "        vertical-align: middle;\n",
       "    }\n",
       "\n",
       "    .dataframe tbody tr th {\n",
       "        vertical-align: top;\n",
       "    }\n",
       "\n",
       "    .dataframe thead th {\n",
       "        text-align: right;\n",
       "    }\n",
       "</style>\n",
       "<table border=\"1\" class=\"dataframe\">\n",
       "  <thead>\n",
       "    <tr style=\"text-align: right;\">\n",
       "      <th></th>\n",
       "      <th>column</th>\n",
       "      <th># of outlier</th>\n",
       "      <th>% of Outlier</th>\n",
       "    </tr>\n",
       "  </thead>\n",
       "  <tbody>\n",
       "    <tr>\n",
       "      <th>0</th>\n",
       "      <td>DHI</td>\n",
       "      <td>3738</td>\n",
       "      <td>0.71</td>\n",
       "    </tr>\n",
       "    <tr>\n",
       "      <th>1</th>\n",
       "      <td>GHI</td>\n",
       "      <td>89</td>\n",
       "      <td>0.02</td>\n",
       "    </tr>\n",
       "    <tr>\n",
       "      <th>2</th>\n",
       "      <td>DNI</td>\n",
       "      <td>0</td>\n",
       "      <td>0.00</td>\n",
       "    </tr>\n",
       "    <tr>\n",
       "      <th>3</th>\n",
       "      <td>ModA</td>\n",
       "      <td>27</td>\n",
       "      <td>0.01</td>\n",
       "    </tr>\n",
       "    <tr>\n",
       "      <th>4</th>\n",
       "      <td>ModB</td>\n",
       "      <td>63</td>\n",
       "      <td>0.01</td>\n",
       "    </tr>\n",
       "    <tr>\n",
       "      <th>5</th>\n",
       "      <td>WS</td>\n",
       "      <td>3109</td>\n",
       "      <td>0.59</td>\n",
       "    </tr>\n",
       "    <tr>\n",
       "      <th>6</th>\n",
       "      <td>WSgust</td>\n",
       "      <td>3500</td>\n",
       "      <td>0.67</td>\n",
       "    </tr>\n",
       "  </tbody>\n",
       "</table>\n",
       "</div>"
      ],
      "text/plain": [
       "   column  # of outlier  % of Outlier\n",
       "0     DHI          3738          0.71\n",
       "1     GHI            89          0.02\n",
       "2     DNI             0          0.00\n",
       "3    ModA            27          0.01\n",
       "4    ModB            63          0.01\n",
       "5      WS          3109          0.59\n",
       "6  WSgust          3500          0.67"
      ]
     },
     "execution_count": 21,
     "metadata": {},
     "output_type": "execute_result"
    }
   ],
   "source": [
    "from scipy.stats import zscore \n",
    "import numpy as np\n",
    "# checking for outliers using zscore\n",
    "def z_score_outlier(col): \n",
    "    outlier = {}\n",
    "    for co in col:    \n",
    "            zscore1 = np.abs(zscore(benin_data[co]))\n",
    "            outlier[co]= zscore1 > 3 \n",
    "    return outlier\n",
    "outlier_z_score = z_score_outlier(['DHI', 'GHI', 'DNI', 'ModA','ModB','WS', 'WSgust'])\n",
    "\n",
    "cols = ['DHI', 'GHI', 'DNI', 'ModA','ModB','WS', 'WSgust']\n",
    "z_score_Outlier = pd.DataFrame({\n",
    "    'column': cols,\n",
    "    '# of outlier': [outlier.sum() for outlier in outlier_z_score.values()],\n",
    "    '% of Outlier':[round(outlier.mean() * 100, 2) for outlier in outlier_z_score.values()]\n",
    "})\n",
    "z_score_Outlier\n",
    "\n",
    "\n"
   ]
  },
  {
   "cell_type": "code",
   "execution_count": 22,
   "id": "283b67e2",
   "metadata": {},
   "outputs": [
    {
     "name": "stdout",
     "output_type": "stream",
     "text": [
      "   column  # of Outliers  % of Outliers\n",
      "0     DHI           3738           0.71\n",
      "1     GHI             89           0.02\n",
      "2     DNI              0           0.00\n",
      "3    ModA             27           0.01\n",
      "4    ModB             63           0.01\n",
      "5      WS           3109           0.59\n",
      "6  WSgust           3500           0.67\n"
     ]
    }
   ],
   "source": [
    "# Replace outliers with median\n",
    "for col in cols:\n",
    "    median_value = benin_data[col].median()\n",
    "    benin_data.loc[outlier_z_score[col], col] = median_value\n",
    "\n",
    "# Summary DataFrame\n",
    "summary = pd.DataFrame({\n",
    "    'column': cols,\n",
    "    '# of Outliers': [mask.sum() for mask in outlier_z_score.values()],\n",
    "    '% of Outliers': [round(mask.mean() * 100, 2) for mask in outlier_z_score.values()]\n",
    "})\n",
    "\n",
    "print(summary)"
   ]
  },
  {
   "cell_type": "code",
   "execution_count": 23,
   "id": "ad08f209",
   "metadata": {},
   "outputs": [],
   "source": [
    "benin_data.to_csv(\"../data/Clean_benin_data.csv\", index =False)"
   ]
  },
  {
   "cell_type": "code",
   "execution_count": null,
   "id": "ea122349",
   "metadata": {},
   "outputs": [],
   "source": []
  }
 ],
 "metadata": {
  "kernelspec": {
   "display_name": ".venv",
   "language": "python",
   "name": "python3"
  },
  "language_info": {
   "codemirror_mode": {
    "name": "ipython",
    "version": 3
   },
   "file_extension": ".py",
   "mimetype": "text/x-python",
   "name": "python",
   "nbconvert_exporter": "python",
   "pygments_lexer": "ipython3",
   "version": "3.13.2"
  }
 },
 "nbformat": 4,
 "nbformat_minor": 5
}
