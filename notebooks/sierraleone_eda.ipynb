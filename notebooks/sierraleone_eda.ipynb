{
 "cells": [
  {
   "cell_type": "markdown",
   "id": "dda8ed62",
   "metadata": {},
   "source": [
    "# **Solar Data Discovery** \n",
    "\n",
    "## **Sierraleone Data Profiling, Cleaning, and EDA**"
   ]
  },
  {
   "cell_type": "code",
   "execution_count": 2,
   "id": "a7a34e77",
   "metadata": {},
   "outputs": [],
   "source": [
    "# Import Required Libraries\n",
    "import matplotlib.pyplot as plt \n",
    "import pandas as pd \n",
    "import numpy as np   "
   ]
  },
  {
   "cell_type": "code",
   "execution_count": 18,
   "id": "23977a43",
   "metadata": {},
   "outputs": [],
   "source": [
    "# Reading DataSets \n",
    "sierraleone_data = pd.read_csv(\"../data/sierraleone-bumbuna.csv\", parse_dates=['Timestamp'],date_format=\"%y %m %d %h %m\")"
   ]
  },
  {
   "cell_type": "markdown",
   "id": "45c04b26",
   "metadata": {},
   "source": [
    "### Data Profiling"
   ]
  },
  {
   "cell_type": "code",
   "execution_count": 4,
   "id": "846724e9",
   "metadata": {},
   "outputs": [
    {
     "data": {
      "application/vnd.microsoft.datawrangler.viewer.v0+json": {
       "columns": [
        {
         "name": "index",
         "rawType": "int64",
         "type": "integer"
        },
        {
         "name": "Timestamp",
         "rawType": "object",
         "type": "string"
        },
        {
         "name": "GHI",
         "rawType": "float64",
         "type": "float"
        },
        {
         "name": "DNI",
         "rawType": "float64",
         "type": "float"
        },
        {
         "name": "DHI",
         "rawType": "float64",
         "type": "float"
        },
        {
         "name": "ModA",
         "rawType": "float64",
         "type": "float"
        },
        {
         "name": "ModB",
         "rawType": "float64",
         "type": "float"
        },
        {
         "name": "Tamb",
         "rawType": "float64",
         "type": "float"
        },
        {
         "name": "RH",
         "rawType": "float64",
         "type": "float"
        },
        {
         "name": "WS",
         "rawType": "float64",
         "type": "float"
        },
        {
         "name": "WSgust",
         "rawType": "float64",
         "type": "float"
        },
        {
         "name": "WSstdev",
         "rawType": "float64",
         "type": "float"
        },
        {
         "name": "WD",
         "rawType": "float64",
         "type": "float"
        },
        {
         "name": "WDstdev",
         "rawType": "float64",
         "type": "float"
        },
        {
         "name": "BP",
         "rawType": "int64",
         "type": "integer"
        },
        {
         "name": "Cleaning",
         "rawType": "int64",
         "type": "integer"
        },
        {
         "name": "Precipitation",
         "rawType": "float64",
         "type": "float"
        },
        {
         "name": "TModA",
         "rawType": "float64",
         "type": "float"
        },
        {
         "name": "TModB",
         "rawType": "float64",
         "type": "float"
        },
        {
         "name": "Comments",
         "rawType": "float64",
         "type": "float"
        }
       ],
       "conversionMethod": "pd.DataFrame",
       "ref": "5f69c059-5486-4906-a145-7adb3c3bc0d9",
       "rows": [
        [
         "0",
         "2021-10-30 00:01",
         "-0.7",
         "-0.1",
         "-0.8",
         "0.0",
         "0.0",
         "21.9",
         "99.1",
         "0.0",
         "0.0",
         "0.0",
         "0.0",
         "0.0",
         "1002",
         "0",
         "0.0",
         "22.3",
         "22.6",
         null
        ],
        [
         "1",
         "2021-10-30 00:02",
         "-0.7",
         "-0.1",
         "-0.8",
         "0.0",
         "0.0",
         "21.9",
         "99.2",
         "0.0",
         "0.0",
         "0.0",
         "0.0",
         "0.0",
         "1002",
         "0",
         "0.0",
         "22.3",
         "22.6",
         null
        ],
        [
         "2",
         "2021-10-30 00:03",
         "-0.7",
         "-0.1",
         "-0.8",
         "0.0",
         "0.0",
         "21.9",
         "99.2",
         "0.0",
         "0.0",
         "0.0",
         "0.0",
         "0.0",
         "1002",
         "0",
         "0.0",
         "22.3",
         "22.6",
         null
        ],
        [
         "3",
         "2021-10-30 00:04",
         "-0.7",
         "0.0",
         "-0.8",
         "0.0",
         "0.0",
         "21.9",
         "99.3",
         "0.0",
         "0.0",
         "0.0",
         "0.0",
         "0.0",
         "1002",
         "0",
         "0.1",
         "22.3",
         "22.6",
         null
        ],
        [
         "4",
         "2021-10-30 00:05",
         "-0.7",
         "-0.1",
         "-0.8",
         "0.0",
         "0.0",
         "21.9",
         "99.3",
         "0.0",
         "0.0",
         "0.0",
         "0.0",
         "0.0",
         "1002",
         "0",
         "0.0",
         "22.3",
         "22.6",
         null
        ]
       ],
       "shape": {
        "columns": 19,
        "rows": 5
       }
      },
      "text/html": [
       "<div>\n",
       "<style scoped>\n",
       "    .dataframe tbody tr th:only-of-type {\n",
       "        vertical-align: middle;\n",
       "    }\n",
       "\n",
       "    .dataframe tbody tr th {\n",
       "        vertical-align: top;\n",
       "    }\n",
       "\n",
       "    .dataframe thead th {\n",
       "        text-align: right;\n",
       "    }\n",
       "</style>\n",
       "<table border=\"1\" class=\"dataframe\">\n",
       "  <thead>\n",
       "    <tr style=\"text-align: right;\">\n",
       "      <th></th>\n",
       "      <th>Timestamp</th>\n",
       "      <th>GHI</th>\n",
       "      <th>DNI</th>\n",
       "      <th>DHI</th>\n",
       "      <th>ModA</th>\n",
       "      <th>ModB</th>\n",
       "      <th>Tamb</th>\n",
       "      <th>RH</th>\n",
       "      <th>WS</th>\n",
       "      <th>WSgust</th>\n",
       "      <th>WSstdev</th>\n",
       "      <th>WD</th>\n",
       "      <th>WDstdev</th>\n",
       "      <th>BP</th>\n",
       "      <th>Cleaning</th>\n",
       "      <th>Precipitation</th>\n",
       "      <th>TModA</th>\n",
       "      <th>TModB</th>\n",
       "      <th>Comments</th>\n",
       "    </tr>\n",
       "  </thead>\n",
       "  <tbody>\n",
       "    <tr>\n",
       "      <th>0</th>\n",
       "      <td>2021-10-30 00:01</td>\n",
       "      <td>-0.7</td>\n",
       "      <td>-0.1</td>\n",
       "      <td>-0.8</td>\n",
       "      <td>0.0</td>\n",
       "      <td>0.0</td>\n",
       "      <td>21.9</td>\n",
       "      <td>99.1</td>\n",
       "      <td>0.0</td>\n",
       "      <td>0.0</td>\n",
       "      <td>0.0</td>\n",
       "      <td>0.0</td>\n",
       "      <td>0.0</td>\n",
       "      <td>1002</td>\n",
       "      <td>0</td>\n",
       "      <td>0.0</td>\n",
       "      <td>22.3</td>\n",
       "      <td>22.6</td>\n",
       "      <td>NaN</td>\n",
       "    </tr>\n",
       "    <tr>\n",
       "      <th>1</th>\n",
       "      <td>2021-10-30 00:02</td>\n",
       "      <td>-0.7</td>\n",
       "      <td>-0.1</td>\n",
       "      <td>-0.8</td>\n",
       "      <td>0.0</td>\n",
       "      <td>0.0</td>\n",
       "      <td>21.9</td>\n",
       "      <td>99.2</td>\n",
       "      <td>0.0</td>\n",
       "      <td>0.0</td>\n",
       "      <td>0.0</td>\n",
       "      <td>0.0</td>\n",
       "      <td>0.0</td>\n",
       "      <td>1002</td>\n",
       "      <td>0</td>\n",
       "      <td>0.0</td>\n",
       "      <td>22.3</td>\n",
       "      <td>22.6</td>\n",
       "      <td>NaN</td>\n",
       "    </tr>\n",
       "    <tr>\n",
       "      <th>2</th>\n",
       "      <td>2021-10-30 00:03</td>\n",
       "      <td>-0.7</td>\n",
       "      <td>-0.1</td>\n",
       "      <td>-0.8</td>\n",
       "      <td>0.0</td>\n",
       "      <td>0.0</td>\n",
       "      <td>21.9</td>\n",
       "      <td>99.2</td>\n",
       "      <td>0.0</td>\n",
       "      <td>0.0</td>\n",
       "      <td>0.0</td>\n",
       "      <td>0.0</td>\n",
       "      <td>0.0</td>\n",
       "      <td>1002</td>\n",
       "      <td>0</td>\n",
       "      <td>0.0</td>\n",
       "      <td>22.3</td>\n",
       "      <td>22.6</td>\n",
       "      <td>NaN</td>\n",
       "    </tr>\n",
       "    <tr>\n",
       "      <th>3</th>\n",
       "      <td>2021-10-30 00:04</td>\n",
       "      <td>-0.7</td>\n",
       "      <td>0.0</td>\n",
       "      <td>-0.8</td>\n",
       "      <td>0.0</td>\n",
       "      <td>0.0</td>\n",
       "      <td>21.9</td>\n",
       "      <td>99.3</td>\n",
       "      <td>0.0</td>\n",
       "      <td>0.0</td>\n",
       "      <td>0.0</td>\n",
       "      <td>0.0</td>\n",
       "      <td>0.0</td>\n",
       "      <td>1002</td>\n",
       "      <td>0</td>\n",
       "      <td>0.1</td>\n",
       "      <td>22.3</td>\n",
       "      <td>22.6</td>\n",
       "      <td>NaN</td>\n",
       "    </tr>\n",
       "    <tr>\n",
       "      <th>4</th>\n",
       "      <td>2021-10-30 00:05</td>\n",
       "      <td>-0.7</td>\n",
       "      <td>-0.1</td>\n",
       "      <td>-0.8</td>\n",
       "      <td>0.0</td>\n",
       "      <td>0.0</td>\n",
       "      <td>21.9</td>\n",
       "      <td>99.3</td>\n",
       "      <td>0.0</td>\n",
       "      <td>0.0</td>\n",
       "      <td>0.0</td>\n",
       "      <td>0.0</td>\n",
       "      <td>0.0</td>\n",
       "      <td>1002</td>\n",
       "      <td>0</td>\n",
       "      <td>0.0</td>\n",
       "      <td>22.3</td>\n",
       "      <td>22.6</td>\n",
       "      <td>NaN</td>\n",
       "    </tr>\n",
       "  </tbody>\n",
       "</table>\n",
       "</div>"
      ],
      "text/plain": [
       "          Timestamp  GHI  DNI  DHI  ModA  ModB  Tamb    RH   WS  WSgust  \\\n",
       "0  2021-10-30 00:01 -0.7 -0.1 -0.8   0.0   0.0  21.9  99.1  0.0     0.0   \n",
       "1  2021-10-30 00:02 -0.7 -0.1 -0.8   0.0   0.0  21.9  99.2  0.0     0.0   \n",
       "2  2021-10-30 00:03 -0.7 -0.1 -0.8   0.0   0.0  21.9  99.2  0.0     0.0   \n",
       "3  2021-10-30 00:04 -0.7  0.0 -0.8   0.0   0.0  21.9  99.3  0.0     0.0   \n",
       "4  2021-10-30 00:05 -0.7 -0.1 -0.8   0.0   0.0  21.9  99.3  0.0     0.0   \n",
       "\n",
       "   WSstdev   WD  WDstdev    BP  Cleaning  Precipitation  TModA  TModB  \\\n",
       "0      0.0  0.0      0.0  1002         0            0.0   22.3   22.6   \n",
       "1      0.0  0.0      0.0  1002         0            0.0   22.3   22.6   \n",
       "2      0.0  0.0      0.0  1002         0            0.0   22.3   22.6   \n",
       "3      0.0  0.0      0.0  1002         0            0.1   22.3   22.6   \n",
       "4      0.0  0.0      0.0  1002         0            0.0   22.3   22.6   \n",
       "\n",
       "   Comments  \n",
       "0       NaN  \n",
       "1       NaN  \n",
       "2       NaN  \n",
       "3       NaN  \n",
       "4       NaN  "
      ]
     },
     "execution_count": 4,
     "metadata": {},
     "output_type": "execute_result"
    }
   ],
   "source": [
    "# display the first 10 records\n",
    "sierraleone_data.head()"
   ]
  },
  {
   "cell_type": "code",
   "execution_count": 5,
   "id": "23066377",
   "metadata": {},
   "outputs": [
    {
     "data": {
      "application/vnd.microsoft.datawrangler.viewer.v0+json": {
       "columns": [
        {
         "name": "index",
         "rawType": "int64",
         "type": "integer"
        },
        {
         "name": "Timestamp",
         "rawType": "object",
         "type": "string"
        },
        {
         "name": "GHI",
         "rawType": "float64",
         "type": "float"
        },
        {
         "name": "DNI",
         "rawType": "float64",
         "type": "float"
        },
        {
         "name": "DHI",
         "rawType": "float64",
         "type": "float"
        },
        {
         "name": "ModA",
         "rawType": "float64",
         "type": "float"
        },
        {
         "name": "ModB",
         "rawType": "float64",
         "type": "float"
        },
        {
         "name": "Tamb",
         "rawType": "float64",
         "type": "float"
        },
        {
         "name": "RH",
         "rawType": "float64",
         "type": "float"
        },
        {
         "name": "WS",
         "rawType": "float64",
         "type": "float"
        },
        {
         "name": "WSgust",
         "rawType": "float64",
         "type": "float"
        },
        {
         "name": "WSstdev",
         "rawType": "float64",
         "type": "float"
        },
        {
         "name": "WD",
         "rawType": "float64",
         "type": "float"
        },
        {
         "name": "WDstdev",
         "rawType": "float64",
         "type": "float"
        },
        {
         "name": "BP",
         "rawType": "int64",
         "type": "integer"
        },
        {
         "name": "Cleaning",
         "rawType": "int64",
         "type": "integer"
        },
        {
         "name": "Precipitation",
         "rawType": "float64",
         "type": "float"
        },
        {
         "name": "TModA",
         "rawType": "float64",
         "type": "float"
        },
        {
         "name": "TModB",
         "rawType": "float64",
         "type": "float"
        },
        {
         "name": "Comments",
         "rawType": "float64",
         "type": "float"
        }
       ],
       "conversionMethod": "pd.DataFrame",
       "ref": "b3ba970d-52b0-4492-b8ed-d35d7f1bf1a5",
       "rows": [
        [
         "525595",
         "2022-10-29 23:56",
         "-1.6",
         "-0.1",
         "-2.9",
         "0.0",
         "0.0",
         "24.0",
         "100.0",
         "0.0",
         "0.0",
         "0.0",
         "0.0",
         "0.0",
         "999",
         "0",
         "0.0",
         "24.2",
         "24.5",
         null
        ],
        [
         "525596",
         "2022-10-29 23:57",
         "-1.7",
         "-0.1",
         "-3.0",
         "0.0",
         "0.0",
         "24.0",
         "100.0",
         "0.0",
         "0.0",
         "0.0",
         "0.0",
         "0.0",
         "999",
         "0",
         "0.0",
         "24.2",
         "24.5",
         null
        ],
        [
         "525597",
         "2022-10-29 23:58",
         "-1.7",
         "-0.1",
         "-3.1",
         "0.0",
         "0.0",
         "24.0",
         "100.0",
         "0.0",
         "0.0",
         "0.0",
         "0.0",
         "0.0",
         "1000",
         "0",
         "0.0",
         "24.1",
         "24.4",
         null
        ],
        [
         "525598",
         "2022-10-29 23:59",
         "-1.7",
         "-0.2",
         "-3.3",
         "0.0",
         "0.0",
         "23.9",
         "100.0",
         "0.0",
         "0.0",
         "0.0",
         "0.0",
         "0.0",
         "1000",
         "0",
         "0.0",
         "24.1",
         "24.4",
         null
        ],
        [
         "525599",
         "2022-10-30 00:00",
         "-1.7",
         "-0.1",
         "-3.4",
         "0.0",
         "0.0",
         "23.9",
         "100.0",
         "0.0",
         "0.0",
         "0.0",
         "0.0",
         "0.0",
         "1000",
         "0",
         "0.0",
         "24.1",
         "24.4",
         null
        ]
       ],
       "shape": {
        "columns": 19,
        "rows": 5
       }
      },
      "text/html": [
       "<div>\n",
       "<style scoped>\n",
       "    .dataframe tbody tr th:only-of-type {\n",
       "        vertical-align: middle;\n",
       "    }\n",
       "\n",
       "    .dataframe tbody tr th {\n",
       "        vertical-align: top;\n",
       "    }\n",
       "\n",
       "    .dataframe thead th {\n",
       "        text-align: right;\n",
       "    }\n",
       "</style>\n",
       "<table border=\"1\" class=\"dataframe\">\n",
       "  <thead>\n",
       "    <tr style=\"text-align: right;\">\n",
       "      <th></th>\n",
       "      <th>Timestamp</th>\n",
       "      <th>GHI</th>\n",
       "      <th>DNI</th>\n",
       "      <th>DHI</th>\n",
       "      <th>ModA</th>\n",
       "      <th>ModB</th>\n",
       "      <th>Tamb</th>\n",
       "      <th>RH</th>\n",
       "      <th>WS</th>\n",
       "      <th>WSgust</th>\n",
       "      <th>WSstdev</th>\n",
       "      <th>WD</th>\n",
       "      <th>WDstdev</th>\n",
       "      <th>BP</th>\n",
       "      <th>Cleaning</th>\n",
       "      <th>Precipitation</th>\n",
       "      <th>TModA</th>\n",
       "      <th>TModB</th>\n",
       "      <th>Comments</th>\n",
       "    </tr>\n",
       "  </thead>\n",
       "  <tbody>\n",
       "    <tr>\n",
       "      <th>525595</th>\n",
       "      <td>2022-10-29 23:56</td>\n",
       "      <td>-1.6</td>\n",
       "      <td>-0.1</td>\n",
       "      <td>-2.9</td>\n",
       "      <td>0.0</td>\n",
       "      <td>0.0</td>\n",
       "      <td>24.0</td>\n",
       "      <td>100.0</td>\n",
       "      <td>0.0</td>\n",
       "      <td>0.0</td>\n",
       "      <td>0.0</td>\n",
       "      <td>0.0</td>\n",
       "      <td>0.0</td>\n",
       "      <td>999</td>\n",
       "      <td>0</td>\n",
       "      <td>0.0</td>\n",
       "      <td>24.2</td>\n",
       "      <td>24.5</td>\n",
       "      <td>NaN</td>\n",
       "    </tr>\n",
       "    <tr>\n",
       "      <th>525596</th>\n",
       "      <td>2022-10-29 23:57</td>\n",
       "      <td>-1.7</td>\n",
       "      <td>-0.1</td>\n",
       "      <td>-3.0</td>\n",
       "      <td>0.0</td>\n",
       "      <td>0.0</td>\n",
       "      <td>24.0</td>\n",
       "      <td>100.0</td>\n",
       "      <td>0.0</td>\n",
       "      <td>0.0</td>\n",
       "      <td>0.0</td>\n",
       "      <td>0.0</td>\n",
       "      <td>0.0</td>\n",
       "      <td>999</td>\n",
       "      <td>0</td>\n",
       "      <td>0.0</td>\n",
       "      <td>24.2</td>\n",
       "      <td>24.5</td>\n",
       "      <td>NaN</td>\n",
       "    </tr>\n",
       "    <tr>\n",
       "      <th>525597</th>\n",
       "      <td>2022-10-29 23:58</td>\n",
       "      <td>-1.7</td>\n",
       "      <td>-0.1</td>\n",
       "      <td>-3.1</td>\n",
       "      <td>0.0</td>\n",
       "      <td>0.0</td>\n",
       "      <td>24.0</td>\n",
       "      <td>100.0</td>\n",
       "      <td>0.0</td>\n",
       "      <td>0.0</td>\n",
       "      <td>0.0</td>\n",
       "      <td>0.0</td>\n",
       "      <td>0.0</td>\n",
       "      <td>1000</td>\n",
       "      <td>0</td>\n",
       "      <td>0.0</td>\n",
       "      <td>24.1</td>\n",
       "      <td>24.4</td>\n",
       "      <td>NaN</td>\n",
       "    </tr>\n",
       "    <tr>\n",
       "      <th>525598</th>\n",
       "      <td>2022-10-29 23:59</td>\n",
       "      <td>-1.7</td>\n",
       "      <td>-0.2</td>\n",
       "      <td>-3.3</td>\n",
       "      <td>0.0</td>\n",
       "      <td>0.0</td>\n",
       "      <td>23.9</td>\n",
       "      <td>100.0</td>\n",
       "      <td>0.0</td>\n",
       "      <td>0.0</td>\n",
       "      <td>0.0</td>\n",
       "      <td>0.0</td>\n",
       "      <td>0.0</td>\n",
       "      <td>1000</td>\n",
       "      <td>0</td>\n",
       "      <td>0.0</td>\n",
       "      <td>24.1</td>\n",
       "      <td>24.4</td>\n",
       "      <td>NaN</td>\n",
       "    </tr>\n",
       "    <tr>\n",
       "      <th>525599</th>\n",
       "      <td>2022-10-30 00:00</td>\n",
       "      <td>-1.7</td>\n",
       "      <td>-0.1</td>\n",
       "      <td>-3.4</td>\n",
       "      <td>0.0</td>\n",
       "      <td>0.0</td>\n",
       "      <td>23.9</td>\n",
       "      <td>100.0</td>\n",
       "      <td>0.0</td>\n",
       "      <td>0.0</td>\n",
       "      <td>0.0</td>\n",
       "      <td>0.0</td>\n",
       "      <td>0.0</td>\n",
       "      <td>1000</td>\n",
       "      <td>0</td>\n",
       "      <td>0.0</td>\n",
       "      <td>24.1</td>\n",
       "      <td>24.4</td>\n",
       "      <td>NaN</td>\n",
       "    </tr>\n",
       "  </tbody>\n",
       "</table>\n",
       "</div>"
      ],
      "text/plain": [
       "               Timestamp  GHI  DNI  DHI  ModA  ModB  Tamb     RH   WS  WSgust  \\\n",
       "525595  2022-10-29 23:56 -1.6 -0.1 -2.9   0.0   0.0  24.0  100.0  0.0     0.0   \n",
       "525596  2022-10-29 23:57 -1.7 -0.1 -3.0   0.0   0.0  24.0  100.0  0.0     0.0   \n",
       "525597  2022-10-29 23:58 -1.7 -0.1 -3.1   0.0   0.0  24.0  100.0  0.0     0.0   \n",
       "525598  2022-10-29 23:59 -1.7 -0.2 -3.3   0.0   0.0  23.9  100.0  0.0     0.0   \n",
       "525599  2022-10-30 00:00 -1.7 -0.1 -3.4   0.0   0.0  23.9  100.0  0.0     0.0   \n",
       "\n",
       "        WSstdev   WD  WDstdev    BP  Cleaning  Precipitation  TModA  TModB  \\\n",
       "525595      0.0  0.0      0.0   999         0            0.0   24.2   24.5   \n",
       "525596      0.0  0.0      0.0   999         0            0.0   24.2   24.5   \n",
       "525597      0.0  0.0      0.0  1000         0            0.0   24.1   24.4   \n",
       "525598      0.0  0.0      0.0  1000         0            0.0   24.1   24.4   \n",
       "525599      0.0  0.0      0.0  1000         0            0.0   24.1   24.4   \n",
       "\n",
       "        Comments  \n",
       "525595       NaN  \n",
       "525596       NaN  \n",
       "525597       NaN  \n",
       "525598       NaN  \n",
       "525599       NaN  "
      ]
     },
     "execution_count": 5,
     "metadata": {},
     "output_type": "execute_result"
    }
   ],
   "source": [
    "# display the last 10 records \n",
    "sierraleone_data.tail()"
   ]
  },
  {
   "cell_type": "code",
   "execution_count": 6,
   "id": "20098f2f",
   "metadata": {},
   "outputs": [
    {
     "name": "stdout",
     "output_type": "stream",
     "text": [
      "sierraleone Solar data Information: \n",
      "Instances: 525600 records \n",
      "Features:  19 columns\n"
     ]
    }
   ],
   "source": [
    "# display the shape of the data to get info about number features and instance \n",
    "print(f\"sierraleone Solar data Information: \")\n",
    "print(f\"Instances: {sierraleone_data.shape[0]} records \")\n",
    "print(f\"Features:  {sierraleone_data.shape[1] } columns\")"
   ]
  },
  {
   "cell_type": "code",
   "execution_count": 7,
   "id": "82ab7a62",
   "metadata": {},
   "outputs": [
    {
     "name": "stdout",
     "output_type": "stream",
     "text": [
      "<class 'pandas.core.frame.DataFrame'>\n",
      "RangeIndex: 525600 entries, 0 to 525599\n",
      "Data columns (total 19 columns):\n",
      " #   Column         Non-Null Count   Dtype  \n",
      "---  ------         --------------   -----  \n",
      " 0   Timestamp      525600 non-null  object \n",
      " 1   GHI            525600 non-null  float64\n",
      " 2   DNI            525600 non-null  float64\n",
      " 3   DHI            525600 non-null  float64\n",
      " 4   ModA           525600 non-null  float64\n",
      " 5   ModB           525600 non-null  float64\n",
      " 6   Tamb           525600 non-null  float64\n",
      " 7   RH             525600 non-null  float64\n",
      " 8   WS             525600 non-null  float64\n",
      " 9   WSgust         525600 non-null  float64\n",
      " 10  WSstdev        525600 non-null  float64\n",
      " 11  WD             525600 non-null  float64\n",
      " 12  WDstdev        525600 non-null  float64\n",
      " 13  BP             525600 non-null  int64  \n",
      " 14  Cleaning       525600 non-null  int64  \n",
      " 15  Precipitation  525600 non-null  float64\n",
      " 16  TModA          525600 non-null  float64\n",
      " 17  TModB          525600 non-null  float64\n",
      " 18  Comments       0 non-null       float64\n",
      "dtypes: float64(16), int64(2), object(1)\n",
      "memory usage: 76.2+ MB\n"
     ]
    }
   ],
   "source": [
    "# Dataset information about type of each columns, size \n",
    "sierraleone_data.info()"
   ]
  },
  {
   "cell_type": "code",
   "execution_count": 8,
   "id": "70144375",
   "metadata": {},
   "outputs": [
    {
     "data": {
      "application/vnd.microsoft.datawrangler.viewer.v0+json": {
       "columns": [
        {
         "name": "index",
         "rawType": "object",
         "type": "string"
        },
        {
         "name": "columns",
         "rawType": "object",
         "type": "string"
        },
        {
         "name": "# of unique",
         "rawType": "int64",
         "type": "integer"
        }
       ],
       "conversionMethod": "pd.DataFrame",
       "ref": "4c873009-0a18-4cb1-9e8d-f902c006305b",
       "rows": [
        [
         "Timestamp",
         "Timestamp",
         "525600"
        ],
        [
         "GHI",
         "GHI",
         "8742"
        ],
        [
         "DNI",
         "DNI",
         "8205"
        ],
        [
         "DHI",
         "DHI",
         "7183"
        ],
        [
         "ModA",
         "ModA",
         "10188"
        ],
        [
         "ModB",
         "ModB",
         "8524"
        ],
        [
         "Tamb",
         "Tamb",
         "276"
        ],
        [
         "RH",
         "RH",
         "902"
        ],
        [
         "WS",
         "WS",
         "145"
        ],
        [
         "WSgust",
         "WSgust",
         "88"
        ],
        [
         "WSstdev",
         "WSstdev",
         "40"
        ],
        [
         "WD",
         "WD",
         "3601"
        ],
        [
         "WDstdev",
         "WDstdev",
         "712"
        ],
        [
         "BP",
         "BP",
         "14"
        ],
        [
         "Cleaning",
         "Cleaning",
         "2"
        ],
        [
         "Precipitation",
         "Precipitation",
         "24"
        ],
        [
         "TModA",
         "TModA",
         "620"
        ],
        [
         "TModB",
         "TModB",
         "572"
        ],
        [
         "Comments",
         "Comments",
         "0"
        ]
       ],
       "shape": {
        "columns": 2,
        "rows": 19
       }
      },
      "text/html": [
       "<div>\n",
       "<style scoped>\n",
       "    .dataframe tbody tr th:only-of-type {\n",
       "        vertical-align: middle;\n",
       "    }\n",
       "\n",
       "    .dataframe tbody tr th {\n",
       "        vertical-align: top;\n",
       "    }\n",
       "\n",
       "    .dataframe thead th {\n",
       "        text-align: right;\n",
       "    }\n",
       "</style>\n",
       "<table border=\"1\" class=\"dataframe\">\n",
       "  <thead>\n",
       "    <tr style=\"text-align: right;\">\n",
       "      <th></th>\n",
       "      <th>columns</th>\n",
       "      <th># of unique</th>\n",
       "    </tr>\n",
       "  </thead>\n",
       "  <tbody>\n",
       "    <tr>\n",
       "      <th>Timestamp</th>\n",
       "      <td>Timestamp</td>\n",
       "      <td>525600</td>\n",
       "    </tr>\n",
       "    <tr>\n",
       "      <th>GHI</th>\n",
       "      <td>GHI</td>\n",
       "      <td>8742</td>\n",
       "    </tr>\n",
       "    <tr>\n",
       "      <th>DNI</th>\n",
       "      <td>DNI</td>\n",
       "      <td>8205</td>\n",
       "    </tr>\n",
       "    <tr>\n",
       "      <th>DHI</th>\n",
       "      <td>DHI</td>\n",
       "      <td>7183</td>\n",
       "    </tr>\n",
       "    <tr>\n",
       "      <th>ModA</th>\n",
       "      <td>ModA</td>\n",
       "      <td>10188</td>\n",
       "    </tr>\n",
       "    <tr>\n",
       "      <th>ModB</th>\n",
       "      <td>ModB</td>\n",
       "      <td>8524</td>\n",
       "    </tr>\n",
       "    <tr>\n",
       "      <th>Tamb</th>\n",
       "      <td>Tamb</td>\n",
       "      <td>276</td>\n",
       "    </tr>\n",
       "    <tr>\n",
       "      <th>RH</th>\n",
       "      <td>RH</td>\n",
       "      <td>902</td>\n",
       "    </tr>\n",
       "    <tr>\n",
       "      <th>WS</th>\n",
       "      <td>WS</td>\n",
       "      <td>145</td>\n",
       "    </tr>\n",
       "    <tr>\n",
       "      <th>WSgust</th>\n",
       "      <td>WSgust</td>\n",
       "      <td>88</td>\n",
       "    </tr>\n",
       "    <tr>\n",
       "      <th>WSstdev</th>\n",
       "      <td>WSstdev</td>\n",
       "      <td>40</td>\n",
       "    </tr>\n",
       "    <tr>\n",
       "      <th>WD</th>\n",
       "      <td>WD</td>\n",
       "      <td>3601</td>\n",
       "    </tr>\n",
       "    <tr>\n",
       "      <th>WDstdev</th>\n",
       "      <td>WDstdev</td>\n",
       "      <td>712</td>\n",
       "    </tr>\n",
       "    <tr>\n",
       "      <th>BP</th>\n",
       "      <td>BP</td>\n",
       "      <td>14</td>\n",
       "    </tr>\n",
       "    <tr>\n",
       "      <th>Cleaning</th>\n",
       "      <td>Cleaning</td>\n",
       "      <td>2</td>\n",
       "    </tr>\n",
       "    <tr>\n",
       "      <th>Precipitation</th>\n",
       "      <td>Precipitation</td>\n",
       "      <td>24</td>\n",
       "    </tr>\n",
       "    <tr>\n",
       "      <th>TModA</th>\n",
       "      <td>TModA</td>\n",
       "      <td>620</td>\n",
       "    </tr>\n",
       "    <tr>\n",
       "      <th>TModB</th>\n",
       "      <td>TModB</td>\n",
       "      <td>572</td>\n",
       "    </tr>\n",
       "    <tr>\n",
       "      <th>Comments</th>\n",
       "      <td>Comments</td>\n",
       "      <td>0</td>\n",
       "    </tr>\n",
       "  </tbody>\n",
       "</table>\n",
       "</div>"
      ],
      "text/plain": [
       "                     columns  # of unique\n",
       "Timestamp          Timestamp       525600\n",
       "GHI                      GHI         8742\n",
       "DNI                      DNI         8205\n",
       "DHI                      DHI         7183\n",
       "ModA                    ModA        10188\n",
       "ModB                    ModB         8524\n",
       "Tamb                    Tamb          276\n",
       "RH                        RH          902\n",
       "WS                        WS          145\n",
       "WSgust                WSgust           88\n",
       "WSstdev              WSstdev           40\n",
       "WD                        WD         3601\n",
       "WDstdev              WDstdev          712\n",
       "BP                        BP           14\n",
       "Cleaning            Cleaning            2\n",
       "Precipitation  Precipitation           24\n",
       "TModA                  TModA          620\n",
       "TModB                  TModB          572\n",
       "Comments            Comments            0"
      ]
     },
     "execution_count": 8,
     "metadata": {},
     "output_type": "execute_result"
    }
   ],
   "source": [
    "# Getting number of unique values \n",
    "number_of_unique = pd.DataFrame({\n",
    "    'columns': sierraleone_data.columns,\n",
    "    '# of unique': sierraleone_data.nunique()\n",
    "})\n",
    "number_of_unique"
   ]
  },
  {
   "cell_type": "code",
   "execution_count": 9,
   "id": "f630f350",
   "metadata": {},
   "outputs": [
    {
     "name": "stdout",
     "output_type": "stream",
     "text": [
      "====================================================================================================\n",
      "                                                              Missing Values Detection                                                                \n",
      "====================================================================================================\n",
      "Total number of missing values in the Dataset: 525600\n",
      "====================================================================================================\n",
      "                                                A Dataset Feature Having missing values more than 5 %                                                 \n",
      "====================================================================================================\n",
      "Missing Values of column Comments: -> 100.0 %\n",
      "====================================================================================================\n"
     ]
    }
   ],
   "source": [
    "# getting number of missing values for all dataset\n",
    "print(\"=\"*100)\n",
    "print(\"Missing Values Detection \".center(150))\n",
    "print(\"=\"*100, end=\"\\n\")\n",
    "print(f\"Total number of missing values in the Dataset: {sierraleone_data.isna().sum().sum()}\")\n",
    "print(\"=\"*100, end=\"\\n\")\n",
    "\n",
    "# columns having missing values more than 5%\n",
    "\n",
    "print(f\"A Dataset Feature Having missing values more than 5 %\".center(150))\n",
    "print(\"=\"*100)\n",
    "for col in sierraleone_data.columns:\n",
    "    percent =(sierraleone_data[col].isna().sum()/sierraleone_data.shape[0]) * 100\n",
    "    if  percent.round(2) >= 5:\n",
    "        print(f\"Missing Values of column {col}: -> {percent} %\")\n",
    "print(\"=\"*100,end=\"\\n\")\n",
    "\n",
    "\n"
   ]
  },
  {
   "cell_type": "code",
   "execution_count": 10,
   "id": "7af47174",
   "metadata": {},
   "outputs": [
    {
     "data": {
      "application/vnd.microsoft.datawrangler.viewer.v0+json": {
       "columns": [
        {
         "name": "index",
         "rawType": "object",
         "type": "string"
        },
        {
         "name": "columns",
         "rawType": "object",
         "type": "string"
        },
        {
         "name": "# missing",
         "rawType": "int64",
         "type": "integer"
        },
        {
         "name": "% missing",
         "rawType": "float64",
         "type": "float"
        }
       ],
       "conversionMethod": "pd.DataFrame",
       "ref": "ec5c8402-9e37-4ef5-ac1a-cf898e5ddd27",
       "rows": [
        [
         "Timestamp",
         "Timestamp",
         "0",
         "0.0"
        ],
        [
         "GHI",
         "GHI",
         "0",
         "0.0"
        ],
        [
         "DNI",
         "DNI",
         "0",
         "0.0"
        ],
        [
         "DHI",
         "DHI",
         "0",
         "0.0"
        ],
        [
         "ModA",
         "ModA",
         "0",
         "0.0"
        ],
        [
         "ModB",
         "ModB",
         "0",
         "0.0"
        ],
        [
         "Tamb",
         "Tamb",
         "0",
         "0.0"
        ],
        [
         "RH",
         "RH",
         "0",
         "0.0"
        ],
        [
         "WS",
         "WS",
         "0",
         "0.0"
        ],
        [
         "WSgust",
         "WSgust",
         "0",
         "0.0"
        ],
        [
         "WSstdev",
         "WSstdev",
         "0",
         "0.0"
        ],
        [
         "WD",
         "WD",
         "0",
         "0.0"
        ],
        [
         "WDstdev",
         "WDstdev",
         "0",
         "0.0"
        ],
        [
         "BP",
         "BP",
         "0",
         "0.0"
        ],
        [
         "Cleaning",
         "Cleaning",
         "0",
         "0.0"
        ],
        [
         "Precipitation",
         "Precipitation",
         "0",
         "0.0"
        ],
        [
         "TModA",
         "TModA",
         "0",
         "0.0"
        ],
        [
         "TModB",
         "TModB",
         "0",
         "0.0"
        ],
        [
         "Comments",
         "Comments",
         "525600",
         "100.0"
        ]
       ],
       "shape": {
        "columns": 3,
        "rows": 19
       }
      },
      "text/html": [
       "<div>\n",
       "<style scoped>\n",
       "    .dataframe tbody tr th:only-of-type {\n",
       "        vertical-align: middle;\n",
       "    }\n",
       "\n",
       "    .dataframe tbody tr th {\n",
       "        vertical-align: top;\n",
       "    }\n",
       "\n",
       "    .dataframe thead th {\n",
       "        text-align: right;\n",
       "    }\n",
       "</style>\n",
       "<table border=\"1\" class=\"dataframe\">\n",
       "  <thead>\n",
       "    <tr style=\"text-align: right;\">\n",
       "      <th></th>\n",
       "      <th>columns</th>\n",
       "      <th># missing</th>\n",
       "      <th>% missing</th>\n",
       "    </tr>\n",
       "  </thead>\n",
       "  <tbody>\n",
       "    <tr>\n",
       "      <th>Timestamp</th>\n",
       "      <td>Timestamp</td>\n",
       "      <td>0</td>\n",
       "      <td>0.0</td>\n",
       "    </tr>\n",
       "    <tr>\n",
       "      <th>GHI</th>\n",
       "      <td>GHI</td>\n",
       "      <td>0</td>\n",
       "      <td>0.0</td>\n",
       "    </tr>\n",
       "    <tr>\n",
       "      <th>DNI</th>\n",
       "      <td>DNI</td>\n",
       "      <td>0</td>\n",
       "      <td>0.0</td>\n",
       "    </tr>\n",
       "    <tr>\n",
       "      <th>DHI</th>\n",
       "      <td>DHI</td>\n",
       "      <td>0</td>\n",
       "      <td>0.0</td>\n",
       "    </tr>\n",
       "    <tr>\n",
       "      <th>ModA</th>\n",
       "      <td>ModA</td>\n",
       "      <td>0</td>\n",
       "      <td>0.0</td>\n",
       "    </tr>\n",
       "    <tr>\n",
       "      <th>ModB</th>\n",
       "      <td>ModB</td>\n",
       "      <td>0</td>\n",
       "      <td>0.0</td>\n",
       "    </tr>\n",
       "    <tr>\n",
       "      <th>Tamb</th>\n",
       "      <td>Tamb</td>\n",
       "      <td>0</td>\n",
       "      <td>0.0</td>\n",
       "    </tr>\n",
       "    <tr>\n",
       "      <th>RH</th>\n",
       "      <td>RH</td>\n",
       "      <td>0</td>\n",
       "      <td>0.0</td>\n",
       "    </tr>\n",
       "    <tr>\n",
       "      <th>WS</th>\n",
       "      <td>WS</td>\n",
       "      <td>0</td>\n",
       "      <td>0.0</td>\n",
       "    </tr>\n",
       "    <tr>\n",
       "      <th>WSgust</th>\n",
       "      <td>WSgust</td>\n",
       "      <td>0</td>\n",
       "      <td>0.0</td>\n",
       "    </tr>\n",
       "    <tr>\n",
       "      <th>WSstdev</th>\n",
       "      <td>WSstdev</td>\n",
       "      <td>0</td>\n",
       "      <td>0.0</td>\n",
       "    </tr>\n",
       "    <tr>\n",
       "      <th>WD</th>\n",
       "      <td>WD</td>\n",
       "      <td>0</td>\n",
       "      <td>0.0</td>\n",
       "    </tr>\n",
       "    <tr>\n",
       "      <th>WDstdev</th>\n",
       "      <td>WDstdev</td>\n",
       "      <td>0</td>\n",
       "      <td>0.0</td>\n",
       "    </tr>\n",
       "    <tr>\n",
       "      <th>BP</th>\n",
       "      <td>BP</td>\n",
       "      <td>0</td>\n",
       "      <td>0.0</td>\n",
       "    </tr>\n",
       "    <tr>\n",
       "      <th>Cleaning</th>\n",
       "      <td>Cleaning</td>\n",
       "      <td>0</td>\n",
       "      <td>0.0</td>\n",
       "    </tr>\n",
       "    <tr>\n",
       "      <th>Precipitation</th>\n",
       "      <td>Precipitation</td>\n",
       "      <td>0</td>\n",
       "      <td>0.0</td>\n",
       "    </tr>\n",
       "    <tr>\n",
       "      <th>TModA</th>\n",
       "      <td>TModA</td>\n",
       "      <td>0</td>\n",
       "      <td>0.0</td>\n",
       "    </tr>\n",
       "    <tr>\n",
       "      <th>TModB</th>\n",
       "      <td>TModB</td>\n",
       "      <td>0</td>\n",
       "      <td>0.0</td>\n",
       "    </tr>\n",
       "    <tr>\n",
       "      <th>Comments</th>\n",
       "      <td>Comments</td>\n",
       "      <td>525600</td>\n",
       "      <td>100.0</td>\n",
       "    </tr>\n",
       "  </tbody>\n",
       "</table>\n",
       "</div>"
      ],
      "text/plain": [
       "                     columns  # missing  % missing\n",
       "Timestamp          Timestamp          0        0.0\n",
       "GHI                      GHI          0        0.0\n",
       "DNI                      DNI          0        0.0\n",
       "DHI                      DHI          0        0.0\n",
       "ModA                    ModA          0        0.0\n",
       "ModB                    ModB          0        0.0\n",
       "Tamb                    Tamb          0        0.0\n",
       "RH                        RH          0        0.0\n",
       "WS                        WS          0        0.0\n",
       "WSgust                WSgust          0        0.0\n",
       "WSstdev              WSstdev          0        0.0\n",
       "WD                        WD          0        0.0\n",
       "WDstdev              WDstdev          0        0.0\n",
       "BP                        BP          0        0.0\n",
       "Cleaning            Cleaning          0        0.0\n",
       "Precipitation  Precipitation          0        0.0\n",
       "TModA                  TModA          0        0.0\n",
       "TModB                  TModB          0        0.0\n",
       "Comments            Comments     525600      100.0"
      ]
     },
     "execution_count": 10,
     "metadata": {},
     "output_type": "execute_result"
    }
   ],
   "source": [
    "# Number of missing values for each features \n",
    "no_missing = pd.DataFrame({\n",
    "    'columns':sierraleone_data.columns,\n",
    "    '# missing': sierraleone_data.isna().sum(), \n",
    "    '% missing': sierraleone_data.isna().mean()*100\n",
    "})\n",
    "no_missing"
   ]
  },
  {
   "cell_type": "code",
   "execution_count": 11,
   "id": "b8c8d00f",
   "metadata": {},
   "outputs": [
    {
     "name": "stdout",
     "output_type": "stream",
     "text": [
      "====================================================================================================\n",
      "                                                                       Duplicated Values                                                                        \n",
      "====================================================================================================\n",
      "                                                    Number of Duplicated values in the dataset: 0                                                     \n",
      "====================================================================================================\n"
     ]
    }
   ],
   "source": [
    "\n",
    "# Number of Duplicated values \n",
    "print(\"=\"*100)\n",
    "print(\"Duplicated Values\".center(160))\n",
    "print(\"=\"*100)\n",
    "print(f\"Number of Duplicated values in the dataset: {sierraleone_data.duplicated().sum()}\".center(150))\n",
    "print(\"=\"*100, end=\"\\n\")"
   ]
  },
  {
   "cell_type": "code",
   "execution_count": 12,
   "id": "bbb63a05",
   "metadata": {},
   "outputs": [
    {
     "data": {
      "application/vnd.microsoft.datawrangler.viewer.v0+json": {
       "columns": [
        {
         "name": "index",
         "rawType": "object",
         "type": "string"
        },
        {
         "name": "columns",
         "rawType": "object",
         "type": "string"
        },
        {
         "name": "dtypes",
         "rawType": "object",
         "type": "unknown"
        },
        {
         "name": "num of -ve values",
         "rawType": "float64",
         "type": "float"
        },
        {
         "name": "% of -ve values",
         "rawType": "float64",
         "type": "float"
        }
       ],
       "conversionMethod": "pd.DataFrame",
       "ref": "4a1a898c-86d7-45ce-bc81-920d3f1fd815",
       "rows": [
        [
         "BP",
         "Timestamp",
         "int64",
         "0.0",
         "0.0"
        ],
        [
         "Cleaning",
         "GHI",
         "int64",
         "0.0",
         "0.0"
        ],
        [
         "Comments",
         "DNI",
         "float64",
         "0.0",
         "0.0"
        ],
        [
         "DHI",
         "DHI",
         "float64",
         "263128.0",
         "50.06"
        ],
        [
         "DNI",
         "ModA",
         "float64",
         "266352.0",
         "50.68"
        ],
        [
         "GHI",
         "ModB",
         "float64",
         "261135.0",
         "49.68"
        ],
        [
         "ModA",
         "Tamb",
         "float64",
         "0.0",
         "0.0"
        ],
        [
         "ModB",
         "RH",
         "float64",
         "0.0",
         "0.0"
        ],
        [
         "Precipitation",
         "WS",
         "float64",
         "0.0",
         "0.0"
        ],
        [
         "RH",
         "WSgust",
         "float64",
         "0.0",
         "0.0"
        ],
        [
         "TModA",
         "WSstdev",
         "float64",
         "0.0",
         "0.0"
        ],
        [
         "TModB",
         "WD",
         "float64",
         "0.0",
         "0.0"
        ],
        [
         "Tamb",
         "WDstdev",
         "float64",
         "0.0",
         "0.0"
        ],
        [
         "Timestamp",
         "BP",
         "object",
         null,
         null
        ],
        [
         "WD",
         "Cleaning",
         "float64",
         "0.0",
         "0.0"
        ],
        [
         "WDstdev",
         "Precipitation",
         "float64",
         "0.0",
         "0.0"
        ],
        [
         "WS",
         "TModA",
         "float64",
         "0.0",
         "0.0"
        ],
        [
         "WSgust",
         "TModB",
         "float64",
         "0.0",
         "0.0"
        ],
        [
         "WSstdev",
         "Comments",
         "float64",
         "0.0",
         "0.0"
        ]
       ],
       "shape": {
        "columns": 4,
        "rows": 19
       }
      },
      "text/html": [
       "<div>\n",
       "<style scoped>\n",
       "    .dataframe tbody tr th:only-of-type {\n",
       "        vertical-align: middle;\n",
       "    }\n",
       "\n",
       "    .dataframe tbody tr th {\n",
       "        vertical-align: top;\n",
       "    }\n",
       "\n",
       "    .dataframe thead th {\n",
       "        text-align: right;\n",
       "    }\n",
       "</style>\n",
       "<table border=\"1\" class=\"dataframe\">\n",
       "  <thead>\n",
       "    <tr style=\"text-align: right;\">\n",
       "      <th></th>\n",
       "      <th>columns</th>\n",
       "      <th>dtypes</th>\n",
       "      <th>num of -ve values</th>\n",
       "      <th>% of -ve values</th>\n",
       "    </tr>\n",
       "  </thead>\n",
       "  <tbody>\n",
       "    <tr>\n",
       "      <th>BP</th>\n",
       "      <td>Timestamp</td>\n",
       "      <td>int64</td>\n",
       "      <td>0.0</td>\n",
       "      <td>0.00</td>\n",
       "    </tr>\n",
       "    <tr>\n",
       "      <th>Cleaning</th>\n",
       "      <td>GHI</td>\n",
       "      <td>int64</td>\n",
       "      <td>0.0</td>\n",
       "      <td>0.00</td>\n",
       "    </tr>\n",
       "    <tr>\n",
       "      <th>Comments</th>\n",
       "      <td>DNI</td>\n",
       "      <td>float64</td>\n",
       "      <td>0.0</td>\n",
       "      <td>0.00</td>\n",
       "    </tr>\n",
       "    <tr>\n",
       "      <th>DHI</th>\n",
       "      <td>DHI</td>\n",
       "      <td>float64</td>\n",
       "      <td>263128.0</td>\n",
       "      <td>50.06</td>\n",
       "    </tr>\n",
       "    <tr>\n",
       "      <th>DNI</th>\n",
       "      <td>ModA</td>\n",
       "      <td>float64</td>\n",
       "      <td>266352.0</td>\n",
       "      <td>50.68</td>\n",
       "    </tr>\n",
       "    <tr>\n",
       "      <th>GHI</th>\n",
       "      <td>ModB</td>\n",
       "      <td>float64</td>\n",
       "      <td>261135.0</td>\n",
       "      <td>49.68</td>\n",
       "    </tr>\n",
       "    <tr>\n",
       "      <th>ModA</th>\n",
       "      <td>Tamb</td>\n",
       "      <td>float64</td>\n",
       "      <td>0.0</td>\n",
       "      <td>0.00</td>\n",
       "    </tr>\n",
       "    <tr>\n",
       "      <th>ModB</th>\n",
       "      <td>RH</td>\n",
       "      <td>float64</td>\n",
       "      <td>0.0</td>\n",
       "      <td>0.00</td>\n",
       "    </tr>\n",
       "    <tr>\n",
       "      <th>Precipitation</th>\n",
       "      <td>WS</td>\n",
       "      <td>float64</td>\n",
       "      <td>0.0</td>\n",
       "      <td>0.00</td>\n",
       "    </tr>\n",
       "    <tr>\n",
       "      <th>RH</th>\n",
       "      <td>WSgust</td>\n",
       "      <td>float64</td>\n",
       "      <td>0.0</td>\n",
       "      <td>0.00</td>\n",
       "    </tr>\n",
       "    <tr>\n",
       "      <th>TModA</th>\n",
       "      <td>WSstdev</td>\n",
       "      <td>float64</td>\n",
       "      <td>0.0</td>\n",
       "      <td>0.00</td>\n",
       "    </tr>\n",
       "    <tr>\n",
       "      <th>TModB</th>\n",
       "      <td>WD</td>\n",
       "      <td>float64</td>\n",
       "      <td>0.0</td>\n",
       "      <td>0.00</td>\n",
       "    </tr>\n",
       "    <tr>\n",
       "      <th>Tamb</th>\n",
       "      <td>WDstdev</td>\n",
       "      <td>float64</td>\n",
       "      <td>0.0</td>\n",
       "      <td>0.00</td>\n",
       "    </tr>\n",
       "    <tr>\n",
       "      <th>Timestamp</th>\n",
       "      <td>BP</td>\n",
       "      <td>object</td>\n",
       "      <td>NaN</td>\n",
       "      <td>NaN</td>\n",
       "    </tr>\n",
       "    <tr>\n",
       "      <th>WD</th>\n",
       "      <td>Cleaning</td>\n",
       "      <td>float64</td>\n",
       "      <td>0.0</td>\n",
       "      <td>0.00</td>\n",
       "    </tr>\n",
       "    <tr>\n",
       "      <th>WDstdev</th>\n",
       "      <td>Precipitation</td>\n",
       "      <td>float64</td>\n",
       "      <td>0.0</td>\n",
       "      <td>0.00</td>\n",
       "    </tr>\n",
       "    <tr>\n",
       "      <th>WS</th>\n",
       "      <td>TModA</td>\n",
       "      <td>float64</td>\n",
       "      <td>0.0</td>\n",
       "      <td>0.00</td>\n",
       "    </tr>\n",
       "    <tr>\n",
       "      <th>WSgust</th>\n",
       "      <td>TModB</td>\n",
       "      <td>float64</td>\n",
       "      <td>0.0</td>\n",
       "      <td>0.00</td>\n",
       "    </tr>\n",
       "    <tr>\n",
       "      <th>WSstdev</th>\n",
       "      <td>Comments</td>\n",
       "      <td>float64</td>\n",
       "      <td>0.0</td>\n",
       "      <td>0.00</td>\n",
       "    </tr>\n",
       "  </tbody>\n",
       "</table>\n",
       "</div>"
      ],
      "text/plain": [
       "                     columns   dtypes  num of -ve values  % of -ve values\n",
       "BP                 Timestamp    int64                0.0             0.00\n",
       "Cleaning                 GHI    int64                0.0             0.00\n",
       "Comments                 DNI  float64                0.0             0.00\n",
       "DHI                      DHI  float64           263128.0            50.06\n",
       "DNI                     ModA  float64           266352.0            50.68\n",
       "GHI                     ModB  float64           261135.0            49.68\n",
       "ModA                    Tamb  float64                0.0             0.00\n",
       "ModB                      RH  float64                0.0             0.00\n",
       "Precipitation             WS  float64                0.0             0.00\n",
       "RH                    WSgust  float64                0.0             0.00\n",
       "TModA                WSstdev  float64                0.0             0.00\n",
       "TModB                     WD  float64                0.0             0.00\n",
       "Tamb                 WDstdev  float64                0.0             0.00\n",
       "Timestamp                 BP   object                NaN              NaN\n",
       "WD                  Cleaning  float64                0.0             0.00\n",
       "WDstdev        Precipitation  float64                0.0             0.00\n",
       "WS                     TModA  float64                0.0             0.00\n",
       "WSgust                 TModB  float64                0.0             0.00\n",
       "WSstdev             Comments  float64                0.0             0.00"
      ]
     },
     "execution_count": 12,
     "metadata": {},
     "output_type": "execute_result"
    }
   ],
   "source": [
    "# finding negative values \n",
    "negative_values = pd.DataFrame({\n",
    "    'columns': sierraleone_data.columns,\n",
    "    'dtypes': sierraleone_data.dtypes,\n",
    "    'num of -ve values': sierraleone_data.select_dtypes(include='number').lt(0).sum(),\n",
    "    \"% of -ve values\": round(sierraleone_data.select_dtypes(include='number').lt(0).mean() *100, 2),\n",
    "})\n",
    "\n",
    "negative_values"
   ]
  },
  {
   "cell_type": "code",
   "execution_count": 13,
   "id": "a7e3cec4",
   "metadata": {},
   "outputs": [
    {
     "data": {
      "application/vnd.microsoft.datawrangler.viewer.v0+json": {
       "columns": [
        {
         "name": "index",
         "rawType": "object",
         "type": "string"
        },
        {
         "name": "GHI",
         "rawType": "float64",
         "type": "float"
        },
        {
         "name": "DNI",
         "rawType": "float64",
         "type": "float"
        },
        {
         "name": "DHI",
         "rawType": "float64",
         "type": "float"
        },
        {
         "name": "ModA",
         "rawType": "float64",
         "type": "float"
        },
        {
         "name": "ModB",
         "rawType": "float64",
         "type": "float"
        },
        {
         "name": "Tamb",
         "rawType": "float64",
         "type": "float"
        },
        {
         "name": "RH",
         "rawType": "float64",
         "type": "float"
        },
        {
         "name": "WS",
         "rawType": "float64",
         "type": "float"
        },
        {
         "name": "WSgust",
         "rawType": "float64",
         "type": "float"
        },
        {
         "name": "WSstdev",
         "rawType": "float64",
         "type": "float"
        },
        {
         "name": "WD",
         "rawType": "float64",
         "type": "float"
        },
        {
         "name": "WDstdev",
         "rawType": "float64",
         "type": "float"
        },
        {
         "name": "BP",
         "rawType": "float64",
         "type": "float"
        },
        {
         "name": "Cleaning",
         "rawType": "float64",
         "type": "float"
        },
        {
         "name": "Precipitation",
         "rawType": "float64",
         "type": "float"
        },
        {
         "name": "TModA",
         "rawType": "float64",
         "type": "float"
        },
        {
         "name": "TModB",
         "rawType": "float64",
         "type": "float"
        },
        {
         "name": "Comments",
         "rawType": "float64",
         "type": "float"
        }
       ],
       "conversionMethod": "pd.DataFrame",
       "ref": "96f60081-560a-493e-9bab-5568c0294919",
       "rows": [
        [
         "count",
         "525600.0",
         "525600.0",
         "525600.0",
         "525600.0",
         "525600.0",
         "525600.0",
         "525600.0",
         "525600.0",
         "525600.0",
         "525600.0",
         "525600.0",
         "525600.0",
         "525600.0",
         "525600.0",
         "525600.0",
         "525600.0",
         "525600.0",
         "0.0"
        ],
        [
         "mean",
         "201.95751522070017",
         "116.37633694824962",
         "113.720570585997",
         "206.6430951293759",
         "198.11469121004558",
         "26.319394216133944",
         "79.44885730593609",
         "1.1461130136986302",
         "1.6916059741248095",
         "0.36382286910197875",
         "133.0446683789954",
         "7.1722197488584465",
         "999.8764687975647",
         "0.0009665144596651446",
         "0.00480593607305936",
         "32.504263127853875",
         "32.5930905631659",
         null
        ],
        [
         "std",
         "298.4951504289856",
         "218.65265859128834",
         "158.94603196076645",
         "300.8968926212413",
         "288.8890726857755",
         "4.398605011595131",
         "20.520774562690175",
         "1.2392483687506368",
         "1.617053354438623",
         "0.29500006363719533",
         "114.28479181237655",
         "7.5350931592808434",
         "2.104419226069219",
         "0.031073817701868293",
         "0.047555992534041275",
         "12.434898577542754",
         "12.009161313594923",
         null
        ],
        [
         "min",
         "-19.5",
         "-7.8",
         "-17.9",
         "0.0",
         "0.0",
         "12.3",
         "9.9",
         "0.0",
         "0.0",
         "0.0",
         "0.0",
         "0.0",
         "993.0",
         "0.0",
         "0.0",
         "10.7",
         "11.1",
         null
        ],
        [
         "25%",
         "-2.8",
         "-0.3",
         "-3.8",
         "0.0",
         "0.0",
         "23.1",
         "68.7",
         "0.0",
         "0.0",
         "0.0",
         "0.0",
         "0.0",
         "999.0",
         "0.0",
         "0.0",
         "23.5",
         "23.8",
         null
        ],
        [
         "50%",
         "0.3",
         "-0.1",
         "-0.1",
         "3.6",
         "3.4",
         "25.3",
         "85.4",
         "0.8",
         "1.6",
         "0.4",
         "161.5",
         "6.2",
         "1000.0",
         "0.0",
         "0.0",
         "26.6",
         "26.9",
         null
        ],
        [
         "75%",
         "362.4",
         "107.0",
         "224.7",
         "359.5",
         "345.4",
         "29.4",
         "96.7",
         "2.0",
         "2.6",
         "0.6",
         "234.1",
         "12.0",
         "1001.0",
         "0.0",
         "0.0",
         "40.9",
         "41.3",
         null
        ],
        [
         "max",
         "1499.0",
         "946.0",
         "892.0",
         "1507.0",
         "1473.0",
         "39.9",
         "100.0",
         "19.2",
         "23.9",
         "4.1",
         "360.0",
         "98.4",
         "1006.0",
         "1.0",
         "2.4",
         "72.8",
         "70.4",
         null
        ]
       ],
       "shape": {
        "columns": 18,
        "rows": 8
       }
      },
      "text/html": [
       "<div>\n",
       "<style scoped>\n",
       "    .dataframe tbody tr th:only-of-type {\n",
       "        vertical-align: middle;\n",
       "    }\n",
       "\n",
       "    .dataframe tbody tr th {\n",
       "        vertical-align: top;\n",
       "    }\n",
       "\n",
       "    .dataframe thead th {\n",
       "        text-align: right;\n",
       "    }\n",
       "</style>\n",
       "<table border=\"1\" class=\"dataframe\">\n",
       "  <thead>\n",
       "    <tr style=\"text-align: right;\">\n",
       "      <th></th>\n",
       "      <th>GHI</th>\n",
       "      <th>DNI</th>\n",
       "      <th>DHI</th>\n",
       "      <th>ModA</th>\n",
       "      <th>ModB</th>\n",
       "      <th>Tamb</th>\n",
       "      <th>RH</th>\n",
       "      <th>WS</th>\n",
       "      <th>WSgust</th>\n",
       "      <th>WSstdev</th>\n",
       "      <th>WD</th>\n",
       "      <th>WDstdev</th>\n",
       "      <th>BP</th>\n",
       "      <th>Cleaning</th>\n",
       "      <th>Precipitation</th>\n",
       "      <th>TModA</th>\n",
       "      <th>TModB</th>\n",
       "      <th>Comments</th>\n",
       "    </tr>\n",
       "  </thead>\n",
       "  <tbody>\n",
       "    <tr>\n",
       "      <th>count</th>\n",
       "      <td>525600.000000</td>\n",
       "      <td>525600.000000</td>\n",
       "      <td>525600.000000</td>\n",
       "      <td>525600.000000</td>\n",
       "      <td>525600.000000</td>\n",
       "      <td>525600.000000</td>\n",
       "      <td>525600.000000</td>\n",
       "      <td>525600.000000</td>\n",
       "      <td>525600.000000</td>\n",
       "      <td>525600.000000</td>\n",
       "      <td>525600.000000</td>\n",
       "      <td>525600.000000</td>\n",
       "      <td>525600.000000</td>\n",
       "      <td>525600.000000</td>\n",
       "      <td>525600.000000</td>\n",
       "      <td>525600.000000</td>\n",
       "      <td>525600.000000</td>\n",
       "      <td>0.0</td>\n",
       "    </tr>\n",
       "    <tr>\n",
       "      <th>mean</th>\n",
       "      <td>201.957515</td>\n",
       "      <td>116.376337</td>\n",
       "      <td>113.720571</td>\n",
       "      <td>206.643095</td>\n",
       "      <td>198.114691</td>\n",
       "      <td>26.319394</td>\n",
       "      <td>79.448857</td>\n",
       "      <td>1.146113</td>\n",
       "      <td>1.691606</td>\n",
       "      <td>0.363823</td>\n",
       "      <td>133.044668</td>\n",
       "      <td>7.172220</td>\n",
       "      <td>999.876469</td>\n",
       "      <td>0.000967</td>\n",
       "      <td>0.004806</td>\n",
       "      <td>32.504263</td>\n",
       "      <td>32.593091</td>\n",
       "      <td>NaN</td>\n",
       "    </tr>\n",
       "    <tr>\n",
       "      <th>std</th>\n",
       "      <td>298.495150</td>\n",
       "      <td>218.652659</td>\n",
       "      <td>158.946032</td>\n",
       "      <td>300.896893</td>\n",
       "      <td>288.889073</td>\n",
       "      <td>4.398605</td>\n",
       "      <td>20.520775</td>\n",
       "      <td>1.239248</td>\n",
       "      <td>1.617053</td>\n",
       "      <td>0.295000</td>\n",
       "      <td>114.284792</td>\n",
       "      <td>7.535093</td>\n",
       "      <td>2.104419</td>\n",
       "      <td>0.031074</td>\n",
       "      <td>0.047556</td>\n",
       "      <td>12.434899</td>\n",
       "      <td>12.009161</td>\n",
       "      <td>NaN</td>\n",
       "    </tr>\n",
       "    <tr>\n",
       "      <th>min</th>\n",
       "      <td>-19.500000</td>\n",
       "      <td>-7.800000</td>\n",
       "      <td>-17.900000</td>\n",
       "      <td>0.000000</td>\n",
       "      <td>0.000000</td>\n",
       "      <td>12.300000</td>\n",
       "      <td>9.900000</td>\n",
       "      <td>0.000000</td>\n",
       "      <td>0.000000</td>\n",
       "      <td>0.000000</td>\n",
       "      <td>0.000000</td>\n",
       "      <td>0.000000</td>\n",
       "      <td>993.000000</td>\n",
       "      <td>0.000000</td>\n",
       "      <td>0.000000</td>\n",
       "      <td>10.700000</td>\n",
       "      <td>11.100000</td>\n",
       "      <td>NaN</td>\n",
       "    </tr>\n",
       "    <tr>\n",
       "      <th>25%</th>\n",
       "      <td>-2.800000</td>\n",
       "      <td>-0.300000</td>\n",
       "      <td>-3.800000</td>\n",
       "      <td>0.000000</td>\n",
       "      <td>0.000000</td>\n",
       "      <td>23.100000</td>\n",
       "      <td>68.700000</td>\n",
       "      <td>0.000000</td>\n",
       "      <td>0.000000</td>\n",
       "      <td>0.000000</td>\n",
       "      <td>0.000000</td>\n",
       "      <td>0.000000</td>\n",
       "      <td>999.000000</td>\n",
       "      <td>0.000000</td>\n",
       "      <td>0.000000</td>\n",
       "      <td>23.500000</td>\n",
       "      <td>23.800000</td>\n",
       "      <td>NaN</td>\n",
       "    </tr>\n",
       "    <tr>\n",
       "      <th>50%</th>\n",
       "      <td>0.300000</td>\n",
       "      <td>-0.100000</td>\n",
       "      <td>-0.100000</td>\n",
       "      <td>3.600000</td>\n",
       "      <td>3.400000</td>\n",
       "      <td>25.300000</td>\n",
       "      <td>85.400000</td>\n",
       "      <td>0.800000</td>\n",
       "      <td>1.600000</td>\n",
       "      <td>0.400000</td>\n",
       "      <td>161.500000</td>\n",
       "      <td>6.200000</td>\n",
       "      <td>1000.000000</td>\n",
       "      <td>0.000000</td>\n",
       "      <td>0.000000</td>\n",
       "      <td>26.600000</td>\n",
       "      <td>26.900000</td>\n",
       "      <td>NaN</td>\n",
       "    </tr>\n",
       "    <tr>\n",
       "      <th>75%</th>\n",
       "      <td>362.400000</td>\n",
       "      <td>107.000000</td>\n",
       "      <td>224.700000</td>\n",
       "      <td>359.500000</td>\n",
       "      <td>345.400000</td>\n",
       "      <td>29.400000</td>\n",
       "      <td>96.700000</td>\n",
       "      <td>2.000000</td>\n",
       "      <td>2.600000</td>\n",
       "      <td>0.600000</td>\n",
       "      <td>234.100000</td>\n",
       "      <td>12.000000</td>\n",
       "      <td>1001.000000</td>\n",
       "      <td>0.000000</td>\n",
       "      <td>0.000000</td>\n",
       "      <td>40.900000</td>\n",
       "      <td>41.300000</td>\n",
       "      <td>NaN</td>\n",
       "    </tr>\n",
       "    <tr>\n",
       "      <th>max</th>\n",
       "      <td>1499.000000</td>\n",
       "      <td>946.000000</td>\n",
       "      <td>892.000000</td>\n",
       "      <td>1507.000000</td>\n",
       "      <td>1473.000000</td>\n",
       "      <td>39.900000</td>\n",
       "      <td>100.000000</td>\n",
       "      <td>19.200000</td>\n",
       "      <td>23.900000</td>\n",
       "      <td>4.100000</td>\n",
       "      <td>360.000000</td>\n",
       "      <td>98.400000</td>\n",
       "      <td>1006.000000</td>\n",
       "      <td>1.000000</td>\n",
       "      <td>2.400000</td>\n",
       "      <td>72.800000</td>\n",
       "      <td>70.400000</td>\n",
       "      <td>NaN</td>\n",
       "    </tr>\n",
       "  </tbody>\n",
       "</table>\n",
       "</div>"
      ],
      "text/plain": [
       "                 GHI            DNI            DHI           ModA  \\\n",
       "count  525600.000000  525600.000000  525600.000000  525600.000000   \n",
       "mean      201.957515     116.376337     113.720571     206.643095   \n",
       "std       298.495150     218.652659     158.946032     300.896893   \n",
       "min       -19.500000      -7.800000     -17.900000       0.000000   \n",
       "25%        -2.800000      -0.300000      -3.800000       0.000000   \n",
       "50%         0.300000      -0.100000      -0.100000       3.600000   \n",
       "75%       362.400000     107.000000     224.700000     359.500000   \n",
       "max      1499.000000     946.000000     892.000000    1507.000000   \n",
       "\n",
       "                ModB           Tamb             RH             WS  \\\n",
       "count  525600.000000  525600.000000  525600.000000  525600.000000   \n",
       "mean      198.114691      26.319394      79.448857       1.146113   \n",
       "std       288.889073       4.398605      20.520775       1.239248   \n",
       "min         0.000000      12.300000       9.900000       0.000000   \n",
       "25%         0.000000      23.100000      68.700000       0.000000   \n",
       "50%         3.400000      25.300000      85.400000       0.800000   \n",
       "75%       345.400000      29.400000      96.700000       2.000000   \n",
       "max      1473.000000      39.900000     100.000000      19.200000   \n",
       "\n",
       "              WSgust        WSstdev             WD        WDstdev  \\\n",
       "count  525600.000000  525600.000000  525600.000000  525600.000000   \n",
       "mean        1.691606       0.363823     133.044668       7.172220   \n",
       "std         1.617053       0.295000     114.284792       7.535093   \n",
       "min         0.000000       0.000000       0.000000       0.000000   \n",
       "25%         0.000000       0.000000       0.000000       0.000000   \n",
       "50%         1.600000       0.400000     161.500000       6.200000   \n",
       "75%         2.600000       0.600000     234.100000      12.000000   \n",
       "max        23.900000       4.100000     360.000000      98.400000   \n",
       "\n",
       "                  BP       Cleaning  Precipitation          TModA  \\\n",
       "count  525600.000000  525600.000000  525600.000000  525600.000000   \n",
       "mean      999.876469       0.000967       0.004806      32.504263   \n",
       "std         2.104419       0.031074       0.047556      12.434899   \n",
       "min       993.000000       0.000000       0.000000      10.700000   \n",
       "25%       999.000000       0.000000       0.000000      23.500000   \n",
       "50%      1000.000000       0.000000       0.000000      26.600000   \n",
       "75%      1001.000000       0.000000       0.000000      40.900000   \n",
       "max      1006.000000       1.000000       2.400000      72.800000   \n",
       "\n",
       "               TModB  Comments  \n",
       "count  525600.000000       0.0  \n",
       "mean       32.593091       NaN  \n",
       "std        12.009161       NaN  \n",
       "min        11.100000       NaN  \n",
       "25%        23.800000       NaN  \n",
       "50%        26.900000       NaN  \n",
       "75%        41.300000       NaN  \n",
       "max        70.400000       NaN  "
      ]
     },
     "execution_count": 13,
     "metadata": {},
     "output_type": "execute_result"
    }
   ],
   "source": [
    "# Statistical Summery \n",
    "sierraleone_data.describe()"
   ]
  },
  {
   "cell_type": "markdown",
   "id": "c628b99e",
   "metadata": {},
   "source": [
    "- The above data profiling outputs describes:\n",
    "  - The dataset one columns with missing values of all records\n",
    "  -  There is no duplicated record in the dataset\n",
    "  -  The Dataset contains 19 features and 525600 records\n",
    "  -  The Dataset has "
   ]
  },
  {
   "cell_type": "code",
   "execution_count": null,
   "id": "2b9c715a",
   "metadata": {},
   "outputs": [],
   "source": []
  },
  {
   "cell_type": "markdown",
   "id": "9a776c45",
   "metadata": {},
   "source": [
    "### EDA Univariate Analysis"
   ]
  },
  {
   "cell_type": "code",
   "execution_count": 14,
   "id": "66b89700",
   "metadata": {},
   "outputs": [],
   "source": [
    "import matplotlib.pyplot as plt\n",
    "# import seaborn as sbn"
   ]
  },
  {
   "cell_type": "markdown",
   "id": "82cea084",
   "metadata": {},
   "source": [
    "Looking for outlines, missing values and incorrect entries on `GHI, DNI, DHI`and outlier on `ModB, ModA` and wend speed data `WS, and WSgust`"
   ]
  },
  {
   "cell_type": "code",
   "execution_count": 15,
   "id": "0817821b",
   "metadata": {},
   "outputs": [
    {
     "data": {
      "application/vnd.microsoft.datawrangler.viewer.v0+json": {
       "columns": [
        {
         "name": "index",
         "rawType": "object",
         "type": "string"
        },
        {
         "name": "GHI",
         "rawType": "float64",
         "type": "float"
        },
        {
         "name": "DNI",
         "rawType": "float64",
         "type": "float"
        },
        {
         "name": "DHI",
         "rawType": "float64",
         "type": "float"
        },
        {
         "name": "ModA",
         "rawType": "float64",
         "type": "float"
        },
        {
         "name": "ModB",
         "rawType": "float64",
         "type": "float"
        },
        {
         "name": "WS",
         "rawType": "float64",
         "type": "float"
        },
        {
         "name": "WSgust",
         "rawType": "float64",
         "type": "float"
        }
       ],
       "conversionMethod": "pd.DataFrame",
       "ref": "8a10293d-35c1-4390-bb9e-810bcbebe070",
       "rows": [
        [
         "count",
         "525600.0",
         "525600.0",
         "525600.0",
         "525600.0",
         "525600.0",
         "525600.0",
         "525600.0"
        ],
        [
         "mean",
         "201.95751522070017",
         "116.37633694824962",
         "113.720570585997",
         "206.6430951293759",
         "198.11469121004558",
         "1.1461130136986302",
         "1.6916059741248095"
        ],
        [
         "std",
         "298.4951504289856",
         "218.65265859128834",
         "158.94603196076645",
         "300.8968926212413",
         "288.8890726857755",
         "1.2392483687506368",
         "1.617053354438623"
        ],
        [
         "min",
         "-19.5",
         "-7.8",
         "-17.9",
         "0.0",
         "0.0",
         "0.0",
         "0.0"
        ],
        [
         "25%",
         "-2.8",
         "-0.3",
         "-3.8",
         "0.0",
         "0.0",
         "0.0",
         "0.0"
        ],
        [
         "50%",
         "0.3",
         "-0.1",
         "-0.1",
         "3.6",
         "3.4",
         "0.8",
         "1.6"
        ],
        [
         "75%",
         "362.4",
         "107.0",
         "224.7",
         "359.5",
         "345.4",
         "2.0",
         "2.6"
        ],
        [
         "max",
         "1499.0",
         "946.0",
         "892.0",
         "1507.0",
         "1473.0",
         "19.2",
         "23.9"
        ]
       ],
       "shape": {
        "columns": 7,
        "rows": 8
       }
      },
      "text/html": [
       "<div>\n",
       "<style scoped>\n",
       "    .dataframe tbody tr th:only-of-type {\n",
       "        vertical-align: middle;\n",
       "    }\n",
       "\n",
       "    .dataframe tbody tr th {\n",
       "        vertical-align: top;\n",
       "    }\n",
       "\n",
       "    .dataframe thead th {\n",
       "        text-align: right;\n",
       "    }\n",
       "</style>\n",
       "<table border=\"1\" class=\"dataframe\">\n",
       "  <thead>\n",
       "    <tr style=\"text-align: right;\">\n",
       "      <th></th>\n",
       "      <th>GHI</th>\n",
       "      <th>DNI</th>\n",
       "      <th>DHI</th>\n",
       "      <th>ModA</th>\n",
       "      <th>ModB</th>\n",
       "      <th>WS</th>\n",
       "      <th>WSgust</th>\n",
       "    </tr>\n",
       "  </thead>\n",
       "  <tbody>\n",
       "    <tr>\n",
       "      <th>count</th>\n",
       "      <td>525600.000000</td>\n",
       "      <td>525600.000000</td>\n",
       "      <td>525600.000000</td>\n",
       "      <td>525600.000000</td>\n",
       "      <td>525600.000000</td>\n",
       "      <td>525600.000000</td>\n",
       "      <td>525600.000000</td>\n",
       "    </tr>\n",
       "    <tr>\n",
       "      <th>mean</th>\n",
       "      <td>201.957515</td>\n",
       "      <td>116.376337</td>\n",
       "      <td>113.720571</td>\n",
       "      <td>206.643095</td>\n",
       "      <td>198.114691</td>\n",
       "      <td>1.146113</td>\n",
       "      <td>1.691606</td>\n",
       "    </tr>\n",
       "    <tr>\n",
       "      <th>std</th>\n",
       "      <td>298.495150</td>\n",
       "      <td>218.652659</td>\n",
       "      <td>158.946032</td>\n",
       "      <td>300.896893</td>\n",
       "      <td>288.889073</td>\n",
       "      <td>1.239248</td>\n",
       "      <td>1.617053</td>\n",
       "    </tr>\n",
       "    <tr>\n",
       "      <th>min</th>\n",
       "      <td>-19.500000</td>\n",
       "      <td>-7.800000</td>\n",
       "      <td>-17.900000</td>\n",
       "      <td>0.000000</td>\n",
       "      <td>0.000000</td>\n",
       "      <td>0.000000</td>\n",
       "      <td>0.000000</td>\n",
       "    </tr>\n",
       "    <tr>\n",
       "      <th>25%</th>\n",
       "      <td>-2.800000</td>\n",
       "      <td>-0.300000</td>\n",
       "      <td>-3.800000</td>\n",
       "      <td>0.000000</td>\n",
       "      <td>0.000000</td>\n",
       "      <td>0.000000</td>\n",
       "      <td>0.000000</td>\n",
       "    </tr>\n",
       "    <tr>\n",
       "      <th>50%</th>\n",
       "      <td>0.300000</td>\n",
       "      <td>-0.100000</td>\n",
       "      <td>-0.100000</td>\n",
       "      <td>3.600000</td>\n",
       "      <td>3.400000</td>\n",
       "      <td>0.800000</td>\n",
       "      <td>1.600000</td>\n",
       "    </tr>\n",
       "    <tr>\n",
       "      <th>75%</th>\n",
       "      <td>362.400000</td>\n",
       "      <td>107.000000</td>\n",
       "      <td>224.700000</td>\n",
       "      <td>359.500000</td>\n",
       "      <td>345.400000</td>\n",
       "      <td>2.000000</td>\n",
       "      <td>2.600000</td>\n",
       "    </tr>\n",
       "    <tr>\n",
       "      <th>max</th>\n",
       "      <td>1499.000000</td>\n",
       "      <td>946.000000</td>\n",
       "      <td>892.000000</td>\n",
       "      <td>1507.000000</td>\n",
       "      <td>1473.000000</td>\n",
       "      <td>19.200000</td>\n",
       "      <td>23.900000</td>\n",
       "    </tr>\n",
       "  </tbody>\n",
       "</table>\n",
       "</div>"
      ],
      "text/plain": [
       "                 GHI            DNI            DHI           ModA  \\\n",
       "count  525600.000000  525600.000000  525600.000000  525600.000000   \n",
       "mean      201.957515     116.376337     113.720571     206.643095   \n",
       "std       298.495150     218.652659     158.946032     300.896893   \n",
       "min       -19.500000      -7.800000     -17.900000       0.000000   \n",
       "25%        -2.800000      -0.300000      -3.800000       0.000000   \n",
       "50%         0.300000      -0.100000      -0.100000       3.600000   \n",
       "75%       362.400000     107.000000     224.700000     359.500000   \n",
       "max      1499.000000     946.000000     892.000000    1507.000000   \n",
       "\n",
       "                ModB             WS         WSgust  \n",
       "count  525600.000000  525600.000000  525600.000000  \n",
       "mean      198.114691       1.146113       1.691606  \n",
       "std       288.889073       1.239248       1.617053  \n",
       "min         0.000000       0.000000       0.000000  \n",
       "25%         0.000000       0.000000       0.000000  \n",
       "50%         3.400000       0.800000       1.600000  \n",
       "75%       345.400000       2.000000       2.600000  \n",
       "max      1473.000000      19.200000      23.900000  "
      ]
     },
     "execution_count": 15,
     "metadata": {},
     "output_type": "execute_result"
    }
   ],
   "source": [
    "# checking incorrect entries of GHI, DNI, and DHI\n",
    "sierraleone_data[['GHI', 'DNI', 'DHI', 'ModA','ModB','WS', 'WSgust']].describe()"
   ]
  },
  {
   "cell_type": "code",
   "execution_count": 16,
   "id": "d2e3f9b6",
   "metadata": {},
   "outputs": [
    {
     "data": {
      "image/png": "[encoded data removed]",
      "text/plain": [
       "<Figure size 2000x1500 with 4 Axes>"
      ]
     },
     "metadata": {},
     "output_type": "display_data"
    }
   ],
   "source": [
    "# checking for outliers for Modb, and ModA, WS, WSgust using boxplot\n",
    "plt.figure(figsize=(20, 15))\n",
    "for i, col in enumerate(['ModA', 'ModB', 'WS', 'WSgust'], start = 1):\n",
    "    plt.subplot(3,8,i)\n",
    "    plt.boxplot(sierraleone_data[col])\n",
    "    plt.xlabel(col)\n",
    "    plt.grid(True)\n",
    "plt.tight_layout()\n",
    "plt.show()\n",
    "    "
   ]
  },
  {
   "cell_type": "markdown",
   "id": "bb95bcc7",
   "metadata": {},
   "source": [
    "## Enter Quantile Range "
   ]
  },
  {
   "cell_type": "code",
   "execution_count": 17,
   "id": "585854bd",
   "metadata": {},
   "outputs": [
    {
     "data": {
      "application/vnd.microsoft.datawrangler.viewer.v0+json": {
       "columns": [
        {
         "name": "index",
         "rawType": "object",
         "type": "string"
        },
        {
         "name": "column",
         "rawType": "object",
         "type": "string"
        },
        {
         "name": "# of outlier",
         "rawType": "int64",
         "type": "integer"
        },
        {
         "name": "% of Outlier",
         "rawType": "float64",
         "type": "float"
        }
       ],
       "conversionMethod": "pd.DataFrame",
       "ref": "fde994c2-0ccd-4018-a33f-bc5cf1f87f44",
       "rows": [
        [
         "GHI",
         "GHI",
         "15853",
         "3.02"
        ],
        [
         "DNI",
         "DNI",
         "101688",
         "19.35"
        ],
        [
         "DHI",
         "DHI",
         "4407",
         "0.84"
        ],
        [
         "ModA",
         "ModA",
         "21017",
         "4.0"
        ],
        [
         "ModB",
         "ModB",
         "20613",
         "3.92"
        ],
        [
         "WS",
         "WS",
         "3169",
         "0.6"
        ],
        [
         "WSgust",
         "WSgust",
         "3665",
         "0.7"
        ]
       ],
       "shape": {
        "columns": 3,
        "rows": 7
       }
      },
      "text/html": [
       "<div>\n",
       "<style scoped>\n",
       "    .dataframe tbody tr th:only-of-type {\n",
       "        vertical-align: middle;\n",
       "    }\n",
       "\n",
       "    .dataframe tbody tr th {\n",
       "        vertical-align: top;\n",
       "    }\n",
       "\n",
       "    .dataframe thead th {\n",
       "        text-align: right;\n",
       "    }\n",
       "</style>\n",
       "<table border=\"1\" class=\"dataframe\">\n",
       "  <thead>\n",
       "    <tr style=\"text-align: right;\">\n",
       "      <th></th>\n",
       "      <th>column</th>\n",
       "      <th># of outlier</th>\n",
       "      <th>% of Outlier</th>\n",
       "    </tr>\n",
       "  </thead>\n",
       "  <tbody>\n",
       "    <tr>\n",
       "      <th>GHI</th>\n",
       "      <td>GHI</td>\n",
       "      <td>15853</td>\n",
       "      <td>3.02</td>\n",
       "    </tr>\n",
       "    <tr>\n",
       "      <th>DNI</th>\n",
       "      <td>DNI</td>\n",
       "      <td>101688</td>\n",
       "      <td>19.35</td>\n",
       "    </tr>\n",
       "    <tr>\n",
       "      <th>DHI</th>\n",
       "      <td>DHI</td>\n",
       "      <td>4407</td>\n",
       "      <td>0.84</td>\n",
       "    </tr>\n",
       "    <tr>\n",
       "      <th>ModA</th>\n",
       "      <td>ModA</td>\n",
       "      <td>21017</td>\n",
       "      <td>4.00</td>\n",
       "    </tr>\n",
       "    <tr>\n",
       "      <th>ModB</th>\n",
       "      <td>ModB</td>\n",
       "      <td>20613</td>\n",
       "      <td>3.92</td>\n",
       "    </tr>\n",
       "    <tr>\n",
       "      <th>WS</th>\n",
       "      <td>WS</td>\n",
       "      <td>3169</td>\n",
       "      <td>0.60</td>\n",
       "    </tr>\n",
       "    <tr>\n",
       "      <th>WSgust</th>\n",
       "      <td>WSgust</td>\n",
       "      <td>3665</td>\n",
       "      <td>0.70</td>\n",
       "    </tr>\n",
       "  </tbody>\n",
       "</table>\n",
       "</div>"
      ],
      "text/plain": [
       "        column  # of outlier  % of Outlier\n",
       "GHI        GHI         15853          3.02\n",
       "DNI        DNI        101688         19.35\n",
       "DHI        DHI          4407          0.84\n",
       "ModA      ModA         21017          4.00\n",
       "ModB      ModB         20613          3.92\n",
       "WS          WS          3169          0.60\n",
       "WSgust  WSgust          3665          0.70"
      ]
     },
     "execution_count": 17,
     "metadata": {},
     "output_type": "execute_result"
    }
   ],
   "source": [
    "column = ['GHI', 'DNI', 'DHI', 'ModA','ModB','WS', 'WSgust']\n",
    "\n",
    "def IQR_outlier(columns):\n",
    "    quantile1 = columns.quantile(0.25)\n",
    "    quantile3 = columns.quantile(0.75)\n",
    "    iqr = quantile3 - quantile1\n",
    "    lowerbound = quantile1 - 1.5 * iqr \n",
    "    upperbound = quantile3 + 1.5 * iqr\n",
    "    \n",
    "    return (columns <lowerbound) | (columns>upperbound)\n",
    "\n",
    "outlier = IQR_outlier(sierraleone_data[column])\n",
    "\n",
    "outlier = pd.DataFrame({\n",
    "    'column':column,\n",
    "    '# of outlier': IQR_outlier(sierraleone_data[column]).sum(),\n",
    "    '% of Outlier': round(IQR_outlier(sierraleone_data[column]).mean() * 100,2),\n",
    "})\n",
    "outlier"
   ]
  },
  {
   "cell_type": "markdown",
   "id": "1d715b48",
   "metadata": {},
   "source": [
    "## Checking Outliers with Z Score"
   ]
  },
  {
   "cell_type": "code",
   "execution_count": 19,
   "id": "9092cb2b",
   "metadata": {},
   "outputs": [
    {
     "data": {
      "application/vnd.microsoft.datawrangler.viewer.v0+json": {
       "columns": [
        {
         "name": "index",
         "rawType": "object",
         "type": "string"
        },
        {
         "name": "column",
         "rawType": "object",
         "type": "string"
        },
        {
         "name": "# of outlier",
         "rawType": "int64",
         "type": "integer"
        },
        {
         "name": "% of Outlier",
         "rawType": "float64",
         "type": "float"
        }
       ],
       "conversionMethod": "pd.DataFrame",
       "ref": "e3e6ab2d-d085-4201-ae44-325306e8b5d5",
       "rows": [
        [
         "GHI",
         "GHI",
         "15853",
         "3.02"
        ],
        [
         "DNI",
         "DNI",
         "101688",
         "19.35"
        ],
        [
         "DHI",
         "DHI",
         "4407",
         "0.84"
        ],
        [
         "ModA",
         "ModA",
         "21017",
         "4.0"
        ],
        [
         "ModB",
         "ModB",
         "20613",
         "3.92"
        ],
        [
         "WS",
         "WS",
         "3169",
         "0.6"
        ],
        [
         "WSgust",
         "WSgust",
         "3665",
         "0.7"
        ]
       ],
       "shape": {
        "columns": 3,
        "rows": 7
       }
      },
      "text/html": [
       "<div>\n",
       "<style scoped>\n",
       "    .dataframe tbody tr th:only-of-type {\n",
       "        vertical-align: middle;\n",
       "    }\n",
       "\n",
       "    .dataframe tbody tr th {\n",
       "        vertical-align: top;\n",
       "    }\n",
       "\n",
       "    .dataframe thead th {\n",
       "        text-align: right;\n",
       "    }\n",
       "</style>\n",
       "<table border=\"1\" class=\"dataframe\">\n",
       "  <thead>\n",
       "    <tr style=\"text-align: right;\">\n",
       "      <th></th>\n",
       "      <th>column</th>\n",
       "      <th># of outlier</th>\n",
       "      <th>% of Outlier</th>\n",
       "    </tr>\n",
       "  </thead>\n",
       "  <tbody>\n",
       "    <tr>\n",
       "      <th>GHI</th>\n",
       "      <td>GHI</td>\n",
       "      <td>15853</td>\n",
       "      <td>3.02</td>\n",
       "    </tr>\n",
       "    <tr>\n",
       "      <th>DNI</th>\n",
       "      <td>DNI</td>\n",
       "      <td>101688</td>\n",
       "      <td>19.35</td>\n",
       "    </tr>\n",
       "    <tr>\n",
       "      <th>DHI</th>\n",
       "      <td>DHI</td>\n",
       "      <td>4407</td>\n",
       "      <td>0.84</td>\n",
       "    </tr>\n",
       "    <tr>\n",
       "      <th>ModA</th>\n",
       "      <td>ModA</td>\n",
       "      <td>21017</td>\n",
       "      <td>4.00</td>\n",
       "    </tr>\n",
       "    <tr>\n",
       "      <th>ModB</th>\n",
       "      <td>ModB</td>\n",
       "      <td>20613</td>\n",
       "      <td>3.92</td>\n",
       "    </tr>\n",
       "    <tr>\n",
       "      <th>WS</th>\n",
       "      <td>WS</td>\n",
       "      <td>3169</td>\n",
       "      <td>0.60</td>\n",
       "    </tr>\n",
       "    <tr>\n",
       "      <th>WSgust</th>\n",
       "      <td>WSgust</td>\n",
       "      <td>3665</td>\n",
       "      <td>0.70</td>\n",
       "    </tr>\n",
       "  </tbody>\n",
       "</table>\n",
       "</div>"
      ],
      "text/plain": [
       "        column  # of outlier  % of Outlier\n",
       "GHI        GHI         15853          3.02\n",
       "DNI        DNI        101688         19.35\n",
       "DHI        DHI          4407          0.84\n",
       "ModA      ModA         21017          4.00\n",
       "ModB      ModB         20613          3.92\n",
       "WS          WS          3169          0.60\n",
       "WSgust  WSgust          3665          0.70"
      ]
     },
     "execution_count": 19,
     "metadata": {},
     "output_type": "execute_result"
    }
   ],
   "source": [
    "from scipy.stats import zscore\n",
    "import numpy as np\n",
    "\n",
    "column = ['GHI', 'DNI', 'DHI', 'ModA','ModB','WS', 'WSgust']\n",
    "\n",
    "def IQR_outlier(columns):\n",
    "    quantile1 = columns.quantile(0.25)\n",
    "    quantile3 = columns.quantile(0.75)\n",
    "    iqr = quantile3 - quantile1\n",
    "    lowerbound = quantile1 - 1.5 * iqr \n",
    "    upperbound = quantile3 + 1.5 * iqr\n",
    "    \n",
    "    return (columns <lowerbound) | (columns>upperbound)\n",
    "\n",
    "outlier = IQR_outlier(sierraleone_data[column])\n",
    "\n",
    "outlier = pd.DataFrame({\n",
    "    'column':column,\n",
    "    '# of outlier': IQR_outlier(sierraleone_data[column]).sum(),\n",
    "    '% of Outlier': round(IQR_outlier(sierraleone_data[column]).mean() * 100,2),\n",
    "})\n",
    "\n",
    "outlier\n"
   ]
  },
  {
   "cell_type": "markdown",
   "id": "283b67e2",
   "metadata": {},
   "source": [
    "## Checking Outliers with Z Score"
   ]
  },
  {
   "cell_type": "code",
   "execution_count": null,
   "id": "0e02d18b",
   "metadata": {},
   "outputs": [],
   "source": [
    "from scipy.stats import zscore \n",
    "import numpy as np\n",
    "# checking for outliers using zscore\n",
    "def z_score_outlier(col): \n",
    "    outlier = {}\n",
    "    for co in col:    \n",
    "            zscore1 = np.abs(zscore(benin_data[co]))\n",
    "            outlier[co]= zscore1 > 3 \n",
    "    return outlier\n",
    "outlier_z_score = z_score_outlier(['DHI', 'GHI', 'DNI', 'ModA','ModB','WS', 'WSgust'])\n",
    "\n",
    "cols = ['DHI', 'GHI', 'DNI', 'ModA','ModB','WS', 'WSgust']\n",
    "z_score_Outlier = pd.DataFrame({\n",
    "    'column': cols,\n",
    "    '# of outlier': [outlier.sum() for outlier in outlier_z_score.values()],\n",
    "    '% of Outlier':[round(outlier.mean() * 100, 2) for outlier in outlier_z_score.values()]\n",
    "})\n",
    "z_score_Outlier"
   ]
  }
 ],
 "metadata": {
  "kernelspec": {
   "display_name": ".venv",
   "language": "python",
   "name": "python3"
  },
  "language_info": {
   "codemirror_mode": {
    "name": "ipython",
    "version": 3
   },
   "file_extension": ".py",
   "mimetype": "text/x-python",
   "name": "python",
   "nbconvert_exporter": "python",
   "pygments_lexer": "ipython3",
   "version": "3.13.2"
  }
 },
 "nbformat": 4,
 "nbformat_minor": 5
}
